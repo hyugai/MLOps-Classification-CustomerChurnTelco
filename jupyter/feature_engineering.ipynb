{
 "cells": [
  {
   "cell_type": "markdown",
   "metadata": {},
   "source": [
    "# Preparations"
   ]
  },
  {
   "cell_type": "markdown",
   "metadata": {},
   "source": [
    "<b>Load Libraries</b>"
   ]
  },
  {
   "cell_type": "code",
   "execution_count": 1,
   "metadata": {},
   "outputs": [],
   "source": [
    "# udf \n",
    "import os, sys\n",
    "cwd = os.getcwd()\n",
    "os.chdir('../')\n",
    "path_to_src = os.getcwd()\n",
    "if path_to_src not in sys.path:\n",
    "    sys.path.append(path_to_src)\n",
    "os.chdir(cwd)\n",
    "##\n",
    "from src.jupyter.support import *\n",
    "from src.mlflow.support import *\n",
    "\n",
    "# others \n",
    "from warnings import simplefilter"
   ]
  },
  {
   "cell_type": "markdown",
   "metadata": {},
   "source": [
    "<b>Load Dataset</b>"
   ]
  },
  {
   "cell_type": "code",
   "execution_count": 2,
   "metadata": {},
   "outputs": [],
   "source": [
    "# materials\n",
    "materials = prepare_data_to_train(path='../resource/data/cleaned.csv')"
   ]
  },
  {
   "cell_type": "markdown",
   "metadata": {},
   "source": [
    "<b>MLflow</b>"
   ]
  },
  {
   "cell_type": "code",
   "execution_count": 3,
   "metadata": {},
   "outputs": [],
   "source": [
    "# local server\n",
    "mlflow.set_tracking_uri('http://127.0.0.1:5000/')\n",
    "experiment_name = 'Feature engineering'\n",
    "try:\n",
    "    mlflow.create_experiment(name=experiment_name, artifact_location='resource/mlflow/runs/')\n",
    "except:\n",
    "    mlflow.set_experiment(experiment_name=experiment_name)"
   ]
  },
  {
   "cell_type": "code",
   "execution_count": 4,
   "metadata": {},
   "outputs": [],
   "source": [
    "# tags\n",
    "tags = {'pre_pro': None, 'base_model': None, \n",
    "        'feature_selection': 'false', 'beta_f': 2}\n",
    "\n",
    "# metrics\n",
    "metrics = {'avg_fbeta': None, 'val_fbeta': None}"
   ]
  },
  {
   "cell_type": "markdown",
   "metadata": {},
   "source": [
    "# 1. Baseline Evaluation"
   ]
  },
  {
   "cell_type": "code",
   "execution_count": 5,
   "metadata": {},
   "outputs": [],
   "source": [
    "# dtype's indexs separation\n",
    "num_iters = materials['X_train'].shape[1]\n",
    "num_idxes, cat_idxes = [], []\n",
    "for i in range(num_iters):\n",
    "    try:\n",
    "        float(materials['X_train'][0, i])\n",
    "        num_idxes.append(i)\n",
    "    except:\n",
    "        cat_idxes.append(i)"
   ]
  },
  {
   "cell_type": "code",
   "execution_count": 11,
   "metadata": {},
   "outputs": [
    {
     "name": "stdout",
     "output_type": "stream",
     "text": [
      "LR: 0.5520175761327805 (0.030887628184530093)\n",
      "KNN: 0.45807864096365475 (0.04355683627620326)\n",
      "SVM: 0.0 (0.0)\n",
      "CART: 0.4981312033510239 (0.033849637678206215)\n",
      "ET: 0.47802201863592086 (0.040517659704176)\n",
      "RF: 0.5000427656656062 (0.044936523146706125)\n",
      "GB: 0.5258548548429957 (0.04106858667872607)\n",
      "LGBM: 0.5304747147473603 (0.047610958849305926)\n",
      "XGB: 0.5259580611451045 (0.04950461047986286)\n"
     ]
    }
   ],
   "source": [
    "# warnings\n",
    "simplefilter(action='ignore')\n",
    "\n",
    "# base models\n",
    "base_models = load_base_models()\n",
    "\n",
    "# trasnformers\n",
    "ct = ColumnTransformer([('num', SimpleImputer(strategy='mean'), num_idxes), \n",
    "                        ('cat', OneHotEncoder(drop='first', sparse_output=False), cat_idxes)])\n",
    "\n",
    "# pipeline\n",
    "pipelines = []\n",
    "for name, model in base_models:\n",
    "    pipeline = Pipeline([('trans', ct), \n",
    "                         (name, model)])\n",
    "    pipelines.append((name, pipeline))\n",
    "\n",
    "kfold_results = get_kfold_results(pipelines, materials['X_train'], materials['y_train'])"
   ]
  },
  {
   "cell_type": "code",
   "execution_count": 12,
   "metadata": {},
   "outputs": [
    {
     "data": {
      "image/png": "[encoded data removed]",
      "text/plain": [
       "<Figure size 640x480 with 1 Axes>"
      ]
     },
     "metadata": {},
     "output_type": "display_data"
    }
   ],
   "source": [
    "# plot kfold results\n",
    "plot_kfold_results(kfold_results, 'Baseline Evaluation')"
   ]
  },
  {
   "cell_type": "code",
   "execution_count": 13,
   "metadata": {},
   "outputs": [],
   "source": [
    "# mlflow\n",
    "for name, pipeline in pipelines:\n",
    "    ##\n",
    "    pipeline.fit(materials['X_train'], materials['y_train'])\n",
    "    val_predictions = pipeline.predict(materials['X_test'])\n",
    "    val_fbeta = fbeta_score(y_true=materials['y_test'], y_pred=val_predictions, \n",
    "                            beta=2)\n",
    "    ##\n",
    "    with mlflow.start_run():\n",
    "        ### tags\n",
    "        tags['pre_pro'] = 'si(mean)_ohe'\n",
    "        tags['base_model'] = name\n",
    "        mlflow.set_tags(tags)\n",
    "        ###\n",
    "        metrics['avg_fbeta'] = kfold_results[name].mean()\n",
    "        metrics['val_fbeta'] = val_fbeta\n",
    "        mlflow.log_metrics(metrics)\n",
    "        ###\n",
    "        mlflow.sklearn.log_model(artifact_path='model', \n",
    "                                 sk_model=pipeline)"
   ]
  },
  {
   "cell_type": "code",
   "execution_count": 14,
   "metadata": {},
   "outputs": [
    {
     "data": {
      "text/plain": [
       "['cloudpickle==3.0.0',\n",
       " 'imbalanced-learn==0.12.3',\n",
       " 'numpy==1.26.4',\n",
       " 'psutil==6.0.0',\n",
       " 'scikit-learn==1.5.1',\n",
       " 'scipy==1.14.0',\n",
       " 'mlxtend==0.23.1']"
      ]
     },
     "execution_count": 14,
     "metadata": {},
     "output_type": "execute_result"
    }
   ],
   "source": [
    "# infer pip requirements\n",
    "runs_id = mlflow.search_runs(\n",
    "    filter_string=\"tags.base_model = 'LR' and tags.pre_pro = 'si(mean)_ohe'\"\n",
    ")['run_id'].values[0]\n",
    "pip_requirements = infer_pip_requirements(\n",
    "    model_uri=f'runs:/{runs_id}/model', \n",
    "    flavor='sklearn'\n",
    ")\n",
    "pip_requirements.extend(['mlxtend==0.23.1'])\n",
    "pip_requirements"
   ]
  },
  {
   "cell_type": "markdown",
   "metadata": {},
   "source": [
    "# 2. Scaling"
   ]
  },
  {
   "cell_type": "markdown",
   "metadata": {},
   "source": [
    "<b>Standardization</b>"
   ]
  },
  {
   "cell_type": "code",
   "execution_count": 39,
   "metadata": {},
   "outputs": [],
   "source": [
    "# nodes\n",
    "def scale_test(data: dict) -> tuple[list, list]:\n",
    "    arr, idxes = data['X'], np.array(data['idxes'])\n",
    "    mask = pd.isnull(arr[:, idxes]).sum(axis=0) == 0\n",
    "    passed, failed = idxes[mask].tolist(), idxes[~mask].tolist()\n",
    "\n",
    "    return passed, failed\n",
    "\n",
    "def impute_test(data: dict) -> tuple[list, list]:\n",
    "    return data['idxes'], []\n",
    "\n",
    "def ohe_test(data: dict) -> tuple[list, list]:\n",
    "    return data['idxes'], []\n",
    "\n",
    "std = Node('std', StandardScaler())\n",
    "std.test = scale_test\n",
    "\n",
    "impute = Node('impute', make_pipeline(SimpleImputer(), StandardScaler()))\n",
    "impute.test = impute_test\n",
    "std.next = impute\n",
    "\n",
    "ohe = Node('ohe', OneHotEncoder(drop='first', sparse_output=False))\n",
    "ohe.test = ohe_test\n",
    "\n",
    "left = [std, impute]\n",
    "right = [ohe]\n",
    "\n",
    "tree = InitBinaryTree(left, right)"
   ]
  },
  {
   "cell_type": "code",
   "execution_count": 41,
   "metadata": {},
   "outputs": [
    {
     "name": "stderr",
     "output_type": "stream",
     "text": [
      "\n",
      "[2024-08-16 13:25:55] Features: 1/19 -- score: 0.2799497782897112\n",
      "[2024-08-16 13:26:22] Features: 2/19 -- score: 0.48944999949617546\n",
      "[2024-08-16 13:26:45] Features: 3/19 -- score: 0.516471722653309\n",
      "[2024-08-16 13:27:10] Features: 4/19 -- score: 0.5391881639530476\n",
      "[2024-08-16 13:27:32] Features: 5/19 -- score: 0.5554007711150578\n",
      "[2024-08-16 13:27:53] Features: 6/19 -- score: 0.5601973453367262\n",
      "[2024-08-16 13:28:14] Features: 7/19 -- score: 0.5715211499597691\n",
      "[2024-08-16 13:28:53] Features: 8/19 -- score: 0.5676722514772382\n",
      "[2024-08-16 13:28:53] Features: 9/19 -- score: 0.5691898587503736\n",
      "[2024-08-16 13:29:11] Features: 10/19 -- score: 0.5625737059835341\n",
      "[2024-08-16 13:29:47] Features: 11/19 -- score: 0.5555070112091909\n",
      "[2024-08-16 13:30:02] Features: 12/19 -- score: 0.553558179843321\n",
      "[2024-08-16 13:30:15] Features: 13/19 -- score: 0.549397423457262\n",
      "[2024-08-16 13:30:07] Features: 14/19 -- score: 0.5418840404750507\n",
      "[2024-08-16 13:30:36] Features: 15/19 -- score: 0.5455364913060784\n",
      "[2024-08-16 13:30:27] Features: 16/19 -- score: 0.5365682937056436\n",
      "[2024-08-16 13:30:52] Features: 17/19 -- score: 0.5392804198918628\n",
      "[2024-08-16 13:30:57] Features: 18/19 -- score: 0.5423972656719567\n",
      "[2024-08-16 13:30:59] Features: 19/19 -- score: 0.5351568269127557"
     ]
    }
   ],
   "source": [
    "# warnings\n",
    "simplefilter(action='ignore')\n",
    "\n",
    "# artifacts path\n",
    "artifacts_path = {'feature_selector': '../resource/temp/feature_selector.pkl', \n",
    "                  'model': '../resource/temp/model.pkl'}\n",
    "\n",
    "# base model \n",
    "base_model = get_seleted_models(['LGBM']) # CHANGE HERE\n",
    "\n",
    "# transformers\n",
    "transformers = SFSTransformer(tree)\n",
    "\n",
    "# pipeline\n",
    "pipeline = Pipeline([('trans', transformers)] + base_model)\n",
    "\n",
    "# sfs\n",
    "sfs = SequentialFeatureSelector(\n",
    "    estimator=pipeline, k_features='best', forward=True, \n",
    "    cv=RepeatedStratifiedKFold(n_splits=10, n_repeats=3), \n",
    "    scoring=make_scorer(fbeta_score, beta=2),\n",
    "    verbose=2\n",
    ")\n",
    "sfs.fit(materials['X_train'], materials['y_train'])\n",
    "## dump sfs\n",
    "dump_model(sfs, artifacts_path['feature_selector'])\n",
    "## dump pipeline\n",
    "pipeline.fit(sfs.transform(materials['X_train']), materials['y_train'])\n",
    "dump_model(pipeline, artifacts_path['model'])"
   ]
  },
  {
   "cell_type": "code",
   "execution_count": 42,
   "metadata": {},
   "outputs": [
    {
     "name": "stderr",
     "output_type": "stream",
     "text": [
      "Downloading artifacts: 100%|██████████| 1/1 [00:00<00:00, 2015.52it/s] \n",
      "Downloading artifacts: 100%|██████████| 1/1 [00:00<00:00, 2015.52it/s] \n",
      "Downloading artifacts: 100%|██████████| 1/1 [00:00<00:00, 1113.73it/s]\n"
     ]
    }
   ],
   "source": [
    "# mlflow\n",
    "##\n",
    "val_predictions = pipeline.predict(sfs.transform(materials['X_test']))\n",
    "val_fbeta = fbeta_score(y_true=materials['y_test'], y_pred=val_predictions, \n",
    "                        beta=2)\n",
    "##\n",
    "with mlflow.start_run():\n",
    "    ### tags\n",
    "    tags['pre_pro'] = 'si(mean)_std_ohe'\n",
    "    tags['base_model'] = 'LGBM' # CHANGE HERE\n",
    "    tags['feature_selection'] = 'true'\n",
    "    mlflow.set_tags(tags)\n",
    "    ### metrics\n",
    "    metrics['avg_fbeta'] = sfs.k_score_\n",
    "    metrics['val_fbeta'] = val_fbeta\n",
    "    mlflow.log_metrics(metrics)\n",
    "    ### pipeline\n",
    "    mlflow.pyfunc.log_model(artifact_path='model', \n",
    "                            python_model=MLflowModel(), \n",
    "                            artifacts=artifacts_path,\n",
    "                            signature=infer_signature(materials['X_train']), \n",
    "                            pip_requirements=pip_requirements)"
   ]
  },
  {
   "cell_type": "markdown",
   "metadata": {},
   "source": [
    "<b>Power Transformation</b>"
   ]
  },
  {
   "cell_type": "code",
   "execution_count": 43,
   "metadata": {},
   "outputs": [],
   "source": [
    "# nodes\n",
    "def scale_test(data: dict) -> tuple[list, list]:\n",
    "    arr, idxes = data['X'], np.array(data['idxes'])\n",
    "    mask = pd.isnull(arr[:, idxes]).sum(axis=0) == 0\n",
    "    passed, failed = idxes[mask], idxes[~mask]\n",
    "\n",
    "    return passed, failed\n",
    "\n",
    "def impute_test(data: dict) -> tuple[list, list]:\n",
    "    return data['idxes'], []\n",
    "\n",
    "def ohe_test(data: dict) -> tuple[list, list]:\n",
    "    return data['idxes'], []\n",
    "\n",
    "scale = Node('pwt', PowerTransformer(method='yeo-johnson'))\n",
    "scale.test = scale_test\n",
    "\n",
    "impute = Node('impute', make_pipeline(SimpleImputer(), PowerTransformer(method='yeo-johnson')))\n",
    "impute.test = impute_test\n",
    "scale.next = impute\n",
    "\n",
    "ohe = Node('ohe', OneHotEncoder(drop='first', sparse_output=False))\n",
    "ohe.test = ohe_test\n",
    "\n",
    "tree = InitBinaryTree([scale, impute], [ohe])"
   ]
  },
  {
   "cell_type": "code",
   "execution_count": 44,
   "metadata": {},
   "outputs": [
    {
     "name": "stderr",
     "output_type": "stream",
     "text": [
      "\n",
      "[2024-08-16 13:31:10] Features: 1/19 -- score: 0.285987459286283\n",
      "[2024-08-16 13:31:34] Features: 2/19 -- score: 0.48198782232381965\n",
      "[2024-08-16 13:31:58] Features: 3/19 -- score: 0.5145181791894367\n",
      "[2024-08-16 13:32:21] Features: 4/19 -- score: 0.5427735042711729\n",
      "[2024-08-16 13:32:43] Features: 5/19 -- score: 0.5498239716922282\n",
      "[2024-08-16 13:33:05] Features: 6/19 -- score: 0.5613235172939433\n",
      "[2024-08-16 13:33:25] Features: 7/19 -- score: 0.5680061473150938\n",
      "[2024-08-16 13:33:44] Features: 8/19 -- score: 0.5651174705532592\n",
      "[2024-08-16 13:34:02] Features: 9/19 -- score: 0.5636678376042538\n",
      "[2024-08-16 13:34:20] Features: 10/19 -- score: 0.5597113317214063\n",
      "[2024-08-16 13:34:36] Features: 11/19 -- score: 0.5591980614055275\n",
      "[2024-08-16 13:34:50] Features: 12/19 -- score: 0.5502485174037568\n",
      "[2024-08-16 13:35:04] Features: 13/19 -- score: 0.5505500378647235\n",
      "[2024-08-16 13:35:15] Features: 14/19 -- score: 0.5443652692771773\n",
      "[2024-08-16 13:35:27] Features: 15/19 -- score: 0.5386677024387763\n",
      "[2024-08-16 13:35:36] Features: 16/19 -- score: 0.539434229189403\n",
      "[2024-08-16 13:35:44] Features: 17/19 -- score: 0.5434417847083837\n",
      "[2024-08-16 13:35:49] Features: 18/19 -- score: 0.5416654953728203\n",
      "[2024-08-16 13:35:51] Features: 19/19 -- score: 0.5368496889246048"
     ]
    }
   ],
   "source": [
    "# warnings\n",
    "simplefilter(action='ignore')\n",
    "\n",
    "# artifacts path\n",
    "artifacts_path = {'feature_selector': '../resource/temp/feature_selector.pkl', \n",
    "                  'model': f'../resource/temp/model.pkl'}\n",
    "\n",
    "# base model \n",
    "base_model = get_seleted_models(['LGBM']) # CHANGE HERE\n",
    "\n",
    "# transformers\n",
    "transformers = SFSTransformer(tree)\n",
    "\n",
    "# pipeline\n",
    "pipeline = Pipeline([('trans', transformers)] + base_model)\n",
    "\n",
    "# sfs\n",
    "sfs = SequentialFeatureSelector(\n",
    "    estimator=pipeline, k_features='best', forward=True, \n",
    "    cv=RepeatedStratifiedKFold(n_splits=10, n_repeats=3), \n",
    "    scoring=make_scorer(fbeta_score, beta=2), \n",
    "    verbose=2\n",
    ")\n",
    "sfs.fit(materials['X_train'], materials['y_train'])\n",
    "## dump \n",
    "dump_model(sfs, artifacts_path['feature_selector'])\n",
    "## pipeline\n",
    "pipeline.fit(sfs.transform(materials['X_train']), materials['y_train'])\n",
    "dump_model(pipeline, artifacts_path['model'])"
   ]
  },
  {
   "cell_type": "code",
   "execution_count": 45,
   "metadata": {},
   "outputs": [
    {
     "name": "stderr",
     "output_type": "stream",
     "text": [
      "Downloading artifacts: 100%|██████████| 1/1 [00:00<00:00, 1903.91it/s] \n",
      "Downloading artifacts:   0%|          | 0/1 [00:00<?, ?it/s]"
     ]
    },
    {
     "name": "stderr",
     "output_type": "stream",
     "text": [
      "Downloading artifacts: 100%|██████████| 1/1 [00:00<00:00, 638.31it/s] \n"
     ]
    }
   ],
   "source": [
    "# mlflow\n",
    "##\n",
    "val_predictions = pipeline.predict(sfs.transform(materials['X_test']))\n",
    "val_fbeta = fbeta_score(materials['y_test'], val_predictions, \n",
    "                        beta=2)\n",
    "##\n",
    "with mlflow.start_run():\n",
    "    ### tags\n",
    "    tags['pre_pro'] = 'si(mean)_pwt_ohe'\n",
    "    tags['base_model'] = 'LGBM' # CHANGE HERE\n",
    "    tags['feature_selection'] = 'true'\n",
    "    mlflow.set_tags(tags)\n",
    "    ### metrics\n",
    "    metrics['avg_fbeta'] = sfs.k_score_\n",
    "    metrics['val_fbeta'] = val_fbeta\n",
    "    mlflow.log_metrics(metrics)\n",
    "    ### log\n",
    "    mlflow.pyfunc.log_model(artifact_path='model', \n",
    "                            python_model=MLflowModel(),\n",
    "                            artifacts=artifacts_path, \n",
    "                            signature=infer_signature(materials['X_train']), \n",
    "                            pip_requirements=pip_requirements)"
   ]
  },
  {
   "cell_type": "markdown",
   "metadata": {},
   "source": [
    "<b>Quantile Transformation</b>"
   ]
  },
  {
   "cell_type": "code",
   "execution_count": 46,
   "metadata": {},
   "outputs": [],
   "source": [
    "# nodes\n",
    "def scale_test(data: dict) -> tuple[list, list]:\n",
    "    arr, idxes = data['X'], np.array(data['idxes'])\n",
    "    mask = pd.isnull(arr[:, idxes]).sum(axis=0) == 0\n",
    "    passed, failed = idxes[mask], idxes[~mask]\n",
    "\n",
    "    return passed, failed\n",
    "\n",
    "def impute_test(data: dict) -> tuple[list, list]:\n",
    "    return data['idxes'], []\n",
    "\n",
    "def ohe_test(data: dict) -> tuple[list, list]:\n",
    "    return data['idxes'], []\n",
    "\n",
    "scale = Node('qtt', QuantileTransformer(output_distribution='normal'))\n",
    "scale.test = scale_test\n",
    "\n",
    "impute = Node('impute', make_pipeline(SimpleImputer(), QuantileTransformer(output_distribution='normal')))\n",
    "impute.test = impute_test\n",
    "scale.next = impute\n",
    "\n",
    "ohe = Node('ohe', OneHotEncoder(drop='first', sparse_output=False))\n",
    "ohe.test = ohe_test\n",
    "\n",
    "tree = InitBinaryTree([scale, impute], [ohe])"
   ]
  },
  {
   "cell_type": "code",
   "execution_count": 47,
   "metadata": {},
   "outputs": [
    {
     "name": "stderr",
     "output_type": "stream",
     "text": [
      "\n",
      "[2024-08-16 13:36:01] Features: 1/19 -- score: 0.28378186370089925\n",
      "[2024-08-16 13:36:23] Features: 2/19 -- score: 0.4815888888410939\n",
      "[2024-08-16 13:36:46] Features: 3/19 -- score: 0.5133441576025685\n",
      "[2024-08-16 13:37:09] Features: 4/19 -- score: 0.539900376360065\n",
      "[2024-08-16 13:37:32] Features: 5/19 -- score: 0.5519536901390496\n",
      "[2024-08-16 13:37:53] Features: 6/19 -- score: 0.5669764135066054\n",
      "[2024-08-16 13:38:14] Features: 7/19 -- score: 0.5702568159079111\n",
      "[2024-08-16 13:38:33] Features: 8/19 -- score: 0.5659665100578813\n",
      "[2024-08-16 13:38:52] Features: 9/19 -- score: 0.5707274850600247\n",
      "[2024-08-16 13:39:09] Features: 10/19 -- score: 0.5657667810968277\n",
      "[2024-08-16 13:39:25] Features: 11/19 -- score: 0.5619892976005719\n",
      "[2024-08-16 13:39:39] Features: 12/19 -- score: 0.5475299432474474\n",
      "[2024-08-16 13:39:52] Features: 13/19 -- score: 0.544970390744659\n",
      "[2024-08-16 13:40:04] Features: 14/19 -- score: 0.5452878874947146\n",
      "[2024-08-16 13:40:15] Features: 15/19 -- score: 0.5406700214927617\n",
      "[2024-08-16 13:40:25] Features: 16/19 -- score: 0.5381075838883117\n",
      "[2024-08-16 13:40:32] Features: 17/19 -- score: 0.5375551634622723\n",
      "[2024-08-16 13:40:37] Features: 18/19 -- score: 0.5356751992779497\n",
      "[2024-08-16 13:40:39] Features: 19/19 -- score: 0.5337822182548337"
     ]
    }
   ],
   "source": [
    "# warnings\n",
    "simplefilter(action='ignore')\n",
    "\n",
    "# artifacts_path\n",
    "artifacts_path = {'feature_selector': '../resource/temp/feature_selector.pkl', \n",
    "                  'model': f'../resource/temp/model.pkl'}\n",
    "\n",
    "# base model \n",
    "base_model = get_seleted_models(['LGBM']) # CHANGE HERE\n",
    "\n",
    "# transformers\n",
    "transformers = SFSTransformer(tree)\n",
    "\n",
    "# pipeline\n",
    "pipeline = Pipeline([('trans', transformers)] + base_model)\n",
    "\n",
    "# sfs\n",
    "sfs = SequentialFeatureSelector(\n",
    "    estimator=pipeline, k_features='best', forward=True, \n",
    "    cv=RepeatedStratifiedKFold(n_splits=10, n_repeats=3), \n",
    "    scoring=make_scorer(fbeta_score, beta=2), \n",
    "    verbose=2\n",
    "\n",
    ")\n",
    "sfs.fit(materials['X_train'], materials['y_train'])\n",
    "## dump\n",
    "dump_model(sfs, artifacts_path['feature_selector'])\n",
    "## pipeline\n",
    "pipeline.fit(sfs.transform(materials['X_train']), materials['y_train'])\n",
    "dump_model(pipeline, artifacts_path['model'])"
   ]
  },
  {
   "cell_type": "code",
   "execution_count": 48,
   "metadata": {},
   "outputs": [
    {
     "name": "stderr",
     "output_type": "stream",
     "text": [
      "Downloading artifacts: 100%|██████████| 1/1 [00:00<00:00, 1706.39it/s] \n",
      "Downloading artifacts: 100%|██████████| 1/1 [00:00<00:00, 1706.39it/s] \n",
      "Downloading artifacts: 100%|██████████| 1/1 [00:00<00:00, 711.02it/s] \n"
     ]
    }
   ],
   "source": [
    "# mflow\n",
    "## \n",
    "val_predictions = pipeline.predict(sfs.transform(materials['X_test']))\n",
    "val_fbeta = fbeta_score(materials['y_test'], val_predictions, \n",
    "                        beta=2)\n",
    "##\n",
    "with mlflow.start_run():\n",
    "    ### tags\n",
    "    tags['pre_pro'] = 'si(mean)_qtt_ohe'\n",
    "    tags['base_model'] = 'LGBM' # CHANGE HERE\n",
    "    tags['feature_selection'] = 'true'\n",
    "    mlflow.set_tags(tags)\n",
    "    ### metrics\n",
    "    metrics['avg_fbeta'] = sfs.k_score_\n",
    "    metrics['val_fbeta'] = val_fbeta\n",
    "    mlflow.log_metrics(metrics)\n",
    "    ###\n",
    "    mlflow.pyfunc.log_model(artifact_path='model', \n",
    "                            python_model=MLflowModel(), \n",
    "                            artifacts=artifacts_path, \n",
    "                            signature=infer_signature(materials['X_train']), \n",
    "                            pip_requirements=pip_requirements)"
   ]
  },
  {
   "cell_type": "markdown",
   "metadata": {},
   "source": [
    "# 3. Factor Analysis"
   ]
  },
  {
   "cell_type": "markdown",
   "metadata": {},
   "source": [
    "# 4. Resampling"
   ]
  },
  {
   "cell_type": "code",
   "execution_count": 64,
   "metadata": {},
   "outputs": [],
   "source": [
    "# nodes\n",
    "def scale_test(data: dict) -> tuple[list, list]:\n",
    "    arr, idxes = data['X'], np.array(data['idxes'])\n",
    "    mask = pd.isnull(arr[:, idxes]).sum(axis=0) == 0\n",
    "    passed, failed = idxes[mask].tolist(), idxes[~mask].tolist()\n",
    "\n",
    "    return passed, failed\n",
    "\n",
    "def impute_test(data: dict) -> tuple[list, list]:\n",
    "    return data['idxes'], []\n",
    "\n",
    "def ohe_test(data: dict) -> tuple[list, list]:\n",
    "    return data['idxes'], []\n",
    "\n",
    "scale = Node('std', QuantileTransformer(output_distribution='normal')) # CHANGE HERE\n",
    "scale.test = scale_test\n",
    "\n",
    "impute = Node('impute', make_pipeline(SimpleImputer(), QuantileTransformer(output_distribution='normal'))) # CHANGE HERE\n",
    "impute.test = impute_test\n",
    "scale.next = impute\n",
    "\n",
    "ohe = Node('ohe', OneHotEncoder(drop='first', sparse_output=False))\n",
    "ohe.test = ohe_test\n",
    "\n",
    "tree = InitBinaryTree([scale, impute], [ohe])"
   ]
  },
  {
   "cell_type": "code",
   "execution_count": 65,
   "metadata": {},
   "outputs": [],
   "source": [
    "# data\n",
    "run_id = mlflow.search_runs(\n",
    "    filter_string=\"tags.base_model = 'LR' and tags.pre_pro = 'si(mean)_qtt_ohe'\", # CHANGE HERE\n",
    "    order_by=[\"metrics.avg_fbeta DESC\"]\n",
    ")['run_id'].values[0]\n",
    "path = mlflow.artifacts.download_artifacts(f\"runs:/{run_id}/model/artifacts/feature_selector.pkl\")\n",
    "with open(path, 'rb') as f:\n",
    "    sfs = cloudpickle.load(f)\n",
    "    selected_X_train = sfs.transform(materials['X_train'])\n",
    "##\n",
    "artifacts_path = {'feature_selector': path}"
   ]
  },
  {
   "cell_type": "code",
   "execution_count": 66,
   "metadata": {},
   "outputs": [
    {
     "name": "stdout",
     "output_type": "stream",
     "text": [
      "ROS: 0.7150967164355272 (0.030141671070857932)\n"
     ]
    },
    {
     "name": "stderr",
     "output_type": "stream",
     "text": [
      "Downloading artifacts: 100%|██████████| 1/1 [00:00<00:00, 2501.08it/s] \n",
      "Downloading artifacts: 100%|██████████| 1/1 [00:00<00:00, 2000.14it/s] \n"
     ]
    },
    {
     "name": "stdout",
     "output_type": "stream",
     "text": [
      "SMOTE: 0.7131494191139881 (0.028397637194366988)\n"
     ]
    },
    {
     "name": "stderr",
     "output_type": "stream",
     "text": [
      "Downloading artifacts: 100%|██████████| 1/1 [00:00<00:00, 2396.75it/s] \n",
      "Downloading artifacts: 100%|██████████| 1/1 [00:00<00:00, 503.58it/s]\n"
     ]
    },
    {
     "name": "stdout",
     "output_type": "stream",
     "text": [
      "SMOTEENN: 0.7429950196520736 (0.021639289506468404)\n"
     ]
    },
    {
     "name": "stderr",
     "output_type": "stream",
     "text": [
      "Downloading artifacts: 100%|██████████| 1/1 [00:00<00:00, 749.65it/s]  \n",
      "Downloading artifacts: 100%|██████████| 1/1 [00:00<00:00, 1711.26it/s] \n"
     ]
    },
    {
     "name": "stdout",
     "output_type": "stream",
     "text": [
      "SMOTETomek: 0.7171034066080793 (0.02094631829353472)\n"
     ]
    },
    {
     "name": "stderr",
     "output_type": "stream",
     "text": [
      "Downloading artifacts: 100%|██████████| 1/1 [00:00<00:00, 1023.50it/s] \n",
      "Downloading artifacts: 100%|██████████| 1/1 [00:00<00:00, 1023.50it/s] \n",
      "Downloading artifacts: 100%|██████████| 1/1 [00:00<00:00, 1279.53it/s] \n"
     ]
    }
   ],
   "source": [
    "# warnings\n",
    "simplefilter(action='ignore')\n",
    "\n",
    "# resamplers\n",
    "resamplers = load_resammplers()\n",
    "\n",
    "# base model\n",
    "base_model = get_seleted_models(['LR']) # CHANGE HERE\n",
    "\n",
    "# transformers\n",
    "transformers = SFSTransformer(tree)\n",
    "\n",
    "# evaluation \n",
    "kfold_results = dict()\n",
    "for name, resampler in resamplers:\n",
    "    ##\n",
    "    pipeline = [(name, Pipeline([('trans', transformers), (name, resampler)] + base_model))]\n",
    "    cv_results = get_kfold_results(pipeline, selected_X_train, materials['y_train'])\n",
    "    kfold_results.update(cv_results)\n",
    "    ##\n",
    "    _, pipeline = pipeline[0]\n",
    "    pipeline.fit(selected_X_train, materials['y_train'])\n",
    "    artifacts_path['model'] = f'../resource/temp/model.pkl'\n",
    "    dump_model(pipeline, artifacts_path['model'])\n",
    "    ## mlflow\n",
    "    val_predictions = pipeline.predict(sfs.transform(materials['X_test']))\n",
    "    val_fbeta = fbeta_score(materials['y_test'], val_predictions, \n",
    "                            beta=2)\n",
    "    with mlflow.start_run():\n",
    "        ### tags\n",
    "        tags['base_model'] = 'LR' # CHANGE HERE\n",
    "        tags['pre_pro'] = f'si(mean)_qtt_ohe_{name.lower()}' # CHANGE HERE\n",
    "        tags['feature_selection'] = 'true'\n",
    "        mlflow.set_tags(tags)\n",
    "        ### metrics\n",
    "        metrics['avg_fbeta'] = cv_results[name].mean()\n",
    "        metrics['val_fbeta'] = val_fbeta\n",
    "        mlflow.log_metrics(metrics)\n",
    "        ### model\n",
    "        mlflow.pyfunc.log_model(artifact_path='model', \n",
    "                                python_model=MLflowModel(), \n",
    "                                artifacts=artifacts_path, # the bug is here, assign the 'feature_selector' path too\n",
    "                                signature=infer_signature(materials['X_train']),\n",
    "                                pip_requirements=pip_requirements)"
   ]
  },
  {
   "cell_type": "code",
   "execution_count": 67,
   "metadata": {},
   "outputs": [
    {
     "data": {
      "image/png": "[encoded data removed]",
      "text/plain": [
       "<Figure size 640x480 with 1 Axes>"
      ]
     },
     "metadata": {},
     "output_type": "display_data"
    }
   ],
   "source": [
    "# plot\n",
    "plot_kfold_results(kfold_results)"
   ]
  },
  {
   "cell_type": "markdown",
   "metadata": {},
   "source": [
    "# 5. Finalize Model"
   ]
  },
  {
   "cell_type": "code",
   "execution_count": 68,
   "metadata": {},
   "outputs": [],
   "source": [
    "# search runs\n",
    "## notes: if using nodes, the function for the node should be present in memory \n",
    "run_id = mlflow.search_runs(\n",
    "    filter_string=\"tag.pre_pro = 'si(mean)_qtt_ohe_smoteenn' and tags.base_model = 'LGBM'\" # CHANGE HERE: be careful of the bug, which is due to wrong logging order\n",
    ")['run_id'].values[0]\n",
    "model = mlflow.pyfunc.load_model(f\"runs:/{run_id}/model\")"
   ]
  },
  {
   "cell_type": "code",
   "execution_count": 69,
   "metadata": {},
   "outputs": [
    {
     "name": "stdout",
     "output_type": "stream",
     "text": [
      "FBeta score: 0.7522509439442346 \n",
      "Classification report: \n",
      "              precision    recall  f1-score   support\n",
      "\n",
      "           0       0.95      0.56      0.71      1552\n",
      "           1       0.43      0.92      0.59       561\n",
      "\n",
      "    accuracy                           0.66      2113\n",
      "   macro avg       0.69      0.74      0.65      2113\n",
      "weighted avg       0.81      0.66      0.68      2113\n",
      "\n"
     ]
    },
    {
     "data": {
      "image/png": "[encoded data removed]",
      "text/plain": [
       "<Figure size 640x480 with 1 Axes>"
      ]
     },
     "metadata": {},
     "output_type": "display_data"
    }
   ],
   "source": [
    "# make predictions \n",
    "## fbeta & classification report\n",
    "val_predictions = model.predict(materials['X_test'])\n",
    "val_fbeta = fbeta_score(materials['y_test'], val_predictions, \n",
    "                        beta=2)\n",
    "print(f\"FBeta score: {val_fbeta} \\nClassification report: \\n{classification_report(materials['y_test'], val_predictions)}\")\n",
    "\n",
    "## confusion matrix\n",
    "data = confusion_matrix(materials['y_test'], val_predictions)\n",
    "g = sns.heatmap(data, \n",
    "            annot=True, fmt='.0f', \n",
    "            cmap='coolwarm', cbar=False)\n",
    "g.xaxis.tick_top()\n",
    "g.set_xticklabels(['Not churned', 'Churned'])\n",
    "g.set_yticklabels(['Not churned', 'Churned'])\n",
    "g.set_title(label='Feature engineering: Confusion matrix (LGBM)', # CHANGE HERE\n",
    "            fontdict=dict(weight='bold'))\n",
    "g.get_figure().savefig('../resource/graphs/fe_conf_matrix_xgb_qtt.png')\n",
    "\n",
    "plt.show()"
   ]
  }
 ],
 "metadata": {
  "kernelspec": {
   "display_name": "mlops",
   "language": "python",
   "name": "python3"
  },
  "language_info": {
   "codemirror_mode": {
    "name": "ipython",
    "version": 3
   },
   "file_extension": ".py",
   "mimetype": "text/x-python",
   "name": "python",
   "nbconvert_exporter": "python",
   "pygments_lexer": "ipython3",
   "version": "3.11.9"
  }
 },
 "nbformat": 4,
 "nbformat_minor": 2
}
