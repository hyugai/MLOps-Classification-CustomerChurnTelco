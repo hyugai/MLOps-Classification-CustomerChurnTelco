{
 "cells": [
  {
   "cell_type": "markdown",
   "metadata": {},
   "source": [
    "# Preparations"
   ]
  },
  {
   "cell_type": "markdown",
   "metadata": {},
   "source": [
    "<b>Load Libraries</b>"
   ]
  },
  {
   "cell_type": "code",
   "execution_count": 1,
   "metadata": {},
   "outputs": [],
   "source": [
    "# udf \n",
    "import os, sys\n",
    "cwd = os.getcwd()\n",
    "os.chdir('../')\n",
    "path_to_src = os.getcwd()\n",
    "if path_to_src not in sys.path:\n",
    "    sys.path.append(path_to_src)\n",
    "os.chdir(cwd)\n",
    "##\n",
    "from src.notebook.support import *\n",
    "from src.mlflow.support import *\n",
    "\n",
    "# others \n",
    "from warnings import simplefilter"
   ]
  },
  {
   "cell_type": "markdown",
   "metadata": {},
   "source": [
    "<b>Load Dataset</b>"
   ]
  },
  {
   "cell_type": "code",
   "execution_count": 2,
   "metadata": {},
   "outputs": [],
   "source": [
    "# materials\n",
    "materials = prepare_data_to_train(path='../cache/data/cleaned.csv')"
   ]
  },
  {
   "cell_type": "markdown",
   "metadata": {},
   "source": [
    "<b>MLflow</b>"
   ]
  },
  {
   "cell_type": "code",
   "execution_count": 3,
   "metadata": {},
   "outputs": [],
   "source": [
    "# local server\n",
    "mlflow.set_tracking_uri('http://127.0.0.1:5000/')\n",
    "experiment_name = 'Feature engineering'\n",
    "try:\n",
    "    mlflow.create_experiment(name=experiment_name, artifact_location='cache/mlflow/runs/')\n",
    "except:\n",
    "    mlflow.set_experiment(experiment_name=experiment_name)"
   ]
  },
  {
   "cell_type": "code",
   "execution_count": 4,
   "metadata": {},
   "outputs": [],
   "source": [
    "# tags\n",
    "tags = {'pre_pro': None, 'base_model': None, \n",
    "        'feature_selection': 'false', 'beta_f': 2}\n",
    "\n",
    "# metrics\n",
    "metrics = {'avg_fbeta': None, 'val_fbeta': None}"
   ]
  },
  {
   "cell_type": "markdown",
   "metadata": {},
   "source": [
    "# 1. Baseline Evaluation"
   ]
  },
  {
   "cell_type": "code",
   "execution_count": 16,
   "metadata": {},
   "outputs": [],
   "source": [
    "# dtype's indexs separation\n",
    "num_iters = materials['X_train'].shape[1]\n",
    "num_idxes, cat_idxes = [], []\n",
    "for i in range(num_iters):\n",
    "    try:\n",
    "        float(materials['X_train'][0, i])\n",
    "        num_idxes.append(i)\n",
    "    except:\n",
    "        cat_idxes.append(i)"
   ]
  },
  {
   "cell_type": "code",
   "execution_count": 21,
   "metadata": {},
   "outputs": [
    {
     "name": "stdout",
     "output_type": "stream",
     "text": [
      "LR: 0.5576398777140695 (0.03318352891094596)\n",
      "KNN: 0.4580758774508246 (0.03971523899930276)\n",
      "SVM: 0.0 (0.0)\n",
      "CART: 0.4877050998677607 (0.04100404352911018)\n",
      "ET: 0.4866171256802644 (0.041132753594308756)\n",
      "RF: 0.4988824774994805 (0.04005701433661895)\n",
      "GB: 0.5334757398446867 (0.030294471597094256)\n",
      "LGBM: 0.534500564541397 (0.03492077482020717)\n",
      "XGB: 0.5346661648584246 (0.03996922328547825)\n"
     ]
    }
   ],
   "source": [
    "# warnings\n",
    "simplefilter(action='ignore')\n",
    "\n",
    "# base models\n",
    "base_models = load_base_models()\n",
    "\n",
    "# trasnformers\n",
    "ct = ColumnTransformer([('num', SimpleImputer(strategy='mean'), num_idxes), \n",
    "                        ('cat', OneHotEncoder(drop='first', sparse_output=False), cat_idxes)])\n",
    "\n",
    "# pipeline\n",
    "pipelines = []\n",
    "for name, model in base_models:\n",
    "    pipeline = Pipeline([('trans', ct), \n",
    "                         (name, model)])\n",
    "    pipelines.append((name, pipeline))\n",
    "\n",
    "kfold_results = get_kfold_results(pipelines, materials['X_train'], materials['y_train'])"
   ]
  },
  {
   "cell_type": "code",
   "execution_count": 22,
   "metadata": {},
   "outputs": [
    {
     "data": {
      "image/png": "[encoded data removed]",
      "text/plain": [
       "<Figure size 640x480 with 1 Axes>"
      ]
     },
     "metadata": {},
     "output_type": "display_data"
    }
   ],
   "source": [
    "# plot kfold results\n",
    "plot_kfold_results(kfold_results, 'Baseline Evaluation')"
   ]
  },
  {
   "cell_type": "code",
   "execution_count": 33,
   "metadata": {},
   "outputs": [],
   "source": [
    "# mlflow\n",
    "for name, pipeline in pipelines:\n",
    "    ##\n",
    "    pipeline.fit(materials['X_train'], materials['y_train'])\n",
    "    val_predictions = pipeline.predict(materials['X_test'])\n",
    "    val_fbeta = fbeta_score(y_true=materials['y_test'], y_pred=val_predictions, \n",
    "                            beta=2)\n",
    "    ##\n",
    "    with mlflow.start_run():\n",
    "        ### tags\n",
    "        tags['pre_pro'] = 'si(mean)_ohe'\n",
    "        tags['base_model'] = name\n",
    "        mlflow.set_tags(tags)\n",
    "        ###\n",
    "        metrics['avg_fbeta'] = kfold_results[name].mean()\n",
    "        metrics['val_fbeta'] = val_fbeta\n",
    "        mlflow.log_metrics(metrics)\n",
    "        ###\n",
    "        mlflow.sklearn.log_model(artifact_path='model', \n",
    "                                 sk_model=pipeline)"
   ]
  },
  {
   "cell_type": "code",
   "execution_count": 5,
   "metadata": {},
   "outputs": [
    {
     "data": {
      "text/plain": [
       "['cloudpickle==3.0.0',\n",
       " 'imbalanced-learn==0.12.3',\n",
       " 'numpy==1.26.4',\n",
       " 'psutil==6.0.0',\n",
       " 'scikit-learn==1.5.1',\n",
       " 'scipy==1.14.0',\n",
       " 'mlxtend==0.23.1']"
      ]
     },
     "execution_count": 5,
     "metadata": {},
     "output_type": "execute_result"
    }
   ],
   "source": [
    "# infer pip requirements\n",
    "runs_id = mlflow.search_runs(\n",
    "    filter_string=\"tags.base_model = 'LR' and tags.pre_pro = 'si(mean)_ohe'\"\n",
    ")['run_id'].values[0]\n",
    "pip_requirements = infer_pip_requirements(\n",
    "    model_uri=f'runs:/{runs_id}/model', \n",
    "    flavor='sklearn'\n",
    ")\n",
    "pip_requirements.extend(['mlxtend==0.23.1'])\n",
    "pip_requirements"
   ]
  },
  {
   "cell_type": "markdown",
   "metadata": {},
   "source": [
    "# 2. Scaling"
   ]
  },
  {
   "cell_type": "markdown",
   "metadata": {},
   "source": [
    "<b>Standardization</b>"
   ]
  },
  {
   "cell_type": "code",
   "execution_count": 6,
   "metadata": {},
   "outputs": [],
   "source": [
    "# nodes\n",
    "def scale_test(data: dict) -> tuple[list, list]:\n",
    "    arr, idxes = data['X'], np.array(data['idxes'])\n",
    "    mask = pd.isnull(arr[:, idxes]).sum(axis=0) == 0\n",
    "    passed, failed = idxes[mask].tolist(), idxes[~mask].tolist()\n",
    "\n",
    "    return passed, failed\n",
    "\n",
    "def impute_test(data: dict) -> tuple[list, list]:\n",
    "    return data['idxes'], []\n",
    "\n",
    "def ohe_test(data: dict) -> tuple[list, list]:\n",
    "    return data['idxes'], []\n",
    "\n",
    "std = Node('std', StandardScaler())\n",
    "std.test = scale_test\n",
    "\n",
    "impute = Node('impute', make_pipeline(SimpleImputer(), StandardScaler()))\n",
    "impute.test = impute_test\n",
    "std.next = impute\n",
    "\n",
    "ohe = Node('ohe', OneHotEncoder(drop='first', sparse_output=False))\n",
    "ohe.test = ohe_test\n",
    "\n",
    "left = [std, impute]\n",
    "right = [ohe]\n",
    "\n",
    "tree = InitBinaryTree(left, right)"
   ]
  },
  {
   "cell_type": "code",
   "execution_count": 7,
   "metadata": {},
   "outputs": [
    {
     "name": "stderr",
     "output_type": "stream",
     "text": [
      "\n",
      "[2024-08-16 07:15:39] Features: 1/19 -- score: 0.2944157220016789\n",
      "[2024-08-16 07:15:55] Features: 2/19 -- score: 0.49015311440703596\n",
      "[2024-08-16 07:16:12] Features: 3/19 -- score: 0.5196964316177709\n",
      "[2024-08-16 07:16:30] Features: 4/19 -- score: 0.5329331545323067\n",
      "[2024-08-16 07:16:47] Features: 5/19 -- score: 0.542320382117173\n",
      "[2024-08-16 07:17:04] Features: 6/19 -- score: 0.5504373716655966\n",
      "[2024-08-16 07:17:21] Features: 7/19 -- score: 0.5507003631111924\n",
      "[2024-08-16 07:17:37] Features: 8/19 -- score: 0.5552978064489643\n",
      "[2024-08-16 07:17:52] Features: 9/19 -- score: 0.5524941761161333\n",
      "[2024-08-16 07:18:07] Features: 10/19 -- score: 0.5457341382442634\n",
      "[2024-08-16 07:18:20] Features: 11/19 -- score: 0.5431454354429844\n",
      "[2024-08-16 07:18:33] Features: 12/19 -- score: 0.536489439540329\n",
      "[2024-08-16 07:18:45] Features: 13/19 -- score: 0.5329214437109518\n",
      "[2024-08-16 07:18:56] Features: 14/19 -- score: 0.5356564673878313\n",
      "[2024-08-16 07:19:06] Features: 15/19 -- score: 0.5371915854681595\n",
      "[2024-08-16 07:19:13] Features: 16/19 -- score: 0.5330913750194786\n",
      "[2024-08-16 07:19:19] Features: 17/19 -- score: 0.5317699365601878\n",
      "[2024-08-16 07:19:24] Features: 18/19 -- score: 0.5325584224912793\n",
      "[2024-08-16 07:19:26] Features: 19/19 -- score: 0.530522399520787"
     ]
    }
   ],
   "source": [
    "# warnings\n",
    "simplefilter(action='ignore')\n",
    "\n",
    "# artifacts path\n",
    "artifacts_path = {'feature_selector': '../cache/temp/feature_selector.pkl', \n",
    "                  'model': '../cache/temp/model.pkl'}\n",
    "\n",
    "# base model CHANGE HERE\n",
    "base_model = get_seleted_models(['XGB'])\n",
    "\n",
    "# transformers\n",
    "transformers = SFS(tree)\n",
    "\n",
    "# pipeline\n",
    "pipeline = Pipeline([('trans', transformers)] + base_model)\n",
    "\n",
    "# sfs\n",
    "sfs = SequentialFeatureSelector(\n",
    "    estimator=pipeline, k_features='best', forward=True, \n",
    "    cv=RepeatedStratifiedKFold(n_splits=10, n_repeats=3), \n",
    "    scoring=make_scorer(fbeta_score, beta=2),\n",
    "    verbose=2\n",
    ")\n",
    "sfs.fit(materials['X_train'], materials['y_train'])\n",
    "## dump sfs\n",
    "dump_model(sfs, artifacts_path['feature_selector'])\n",
    "## dump pipeline\n",
    "pipeline.fit(sfs.transform(materials['X_train']), materials['y_train'])\n",
    "dump_model(pipeline, artifacts_path['model'])"
   ]
  },
  {
   "cell_type": "code",
   "execution_count": 8,
   "metadata": {},
   "outputs": [
    {
     "name": "stderr",
     "output_type": "stream",
     "text": [
      "Downloading artifacts: 100%|██████████| 1/1 [00:00<00:00, 1530.21it/s] \n",
      "Downloading artifacts: 100%|██████████| 1/1 [00:00<00:00, 1530.21it/s] \n",
      "Downloading artifacts: 100%|██████████| 1/1 [00:00<00:00, 1874.97it/s] \n"
     ]
    }
   ],
   "source": [
    "# mlflow\n",
    "##\n",
    "val_predictions = pipeline.predict(sfs.transform(materials['X_test']))\n",
    "val_fbeta = fbeta_score(y_true=materials['y_test'], y_pred=val_predictions, \n",
    "                        beta=2)\n",
    "##\n",
    "with mlflow.start_run():\n",
    "    ### tags\n",
    "    tags['pre_pro'] = 'si(mean)_std_ohe'\n",
    "    tags['base_model'] = 'XGB' # CHANGE HERE\n",
    "    tags['feature_selection'] = 'true'\n",
    "    mlflow.set_tags(tags)\n",
    "    ### metrics\n",
    "    metrics['avg_fbeta'] = sfs.k_score_\n",
    "    metrics['val_fbeta'] = val_fbeta\n",
    "    mlflow.log_metrics(metrics)\n",
    "    ### pipeline\n",
    "    mlflow.pyfunc.log_model(artifact_path='model', \n",
    "                            python_model=MLflowModel(), \n",
    "                            artifacts=artifacts_path,\n",
    "                            signature=infer_signature(materials['X_train']), \n",
    "                            pip_requirements=pip_requirements)"
   ]
  },
  {
   "cell_type": "markdown",
   "metadata": {},
   "source": [
    "<b>Power Transformation</b>"
   ]
  },
  {
   "cell_type": "code",
   "execution_count": 9,
   "metadata": {},
   "outputs": [],
   "source": [
    "# nodes\n",
    "def scale_test(data: dict) -> tuple[list, list]:\n",
    "    arr, idxes = data['X'], np.array(data['idxes'])\n",
    "    mask = pd.isnull(arr[:, idxes]).sum(axis=0) == 0\n",
    "    passed, failed = idxes[mask], idxes[~mask]\n",
    "\n",
    "    return passed, failed\n",
    "\n",
    "def impute_test(data: dict) -> tuple[list, list]:\n",
    "    return data['idxes'], []\n",
    "\n",
    "def ohe_test(data: dict) -> tuple[list, list]:\n",
    "    return data['idxes'], []\n",
    "\n",
    "scale = Node('pwt', PowerTransformer(method='yeo-johnson'))\n",
    "scale.test = scale_test\n",
    "\n",
    "impute = Node('impute', make_pipeline(SimpleImputer(), PowerTransformer(method='yeo-johnson')))\n",
    "impute.test = impute_test\n",
    "scale.next = impute\n",
    "\n",
    "ohe = Node('ohe', OneHotEncoder(drop='first', sparse_output=False))\n",
    "ohe.test = ohe_test\n",
    "\n",
    "tree = InitBinaryTree([scale, impute], [ohe])"
   ]
  },
  {
   "cell_type": "code",
   "execution_count": 10,
   "metadata": {},
   "outputs": [
    {
     "name": "stderr",
     "output_type": "stream",
     "text": [
      "\n",
      "[2024-08-16 07:21:16] Features: 1/19 -- score: 0.2871020300791441\n",
      "[2024-08-16 07:21:37] Features: 2/19 -- score: 0.4871121908653007\n",
      "[2024-08-16 07:21:43] Features: 3/19 -- score: 0.5252066332014063\n",
      "[2024-08-16 07:22:03] Features: 4/19 -- score: 0.5452735045921477\n",
      "[2024-08-16 07:22:22] Features: 5/19 -- score: 0.5506680680351278\n",
      "[2024-08-16 07:22:42] Features: 6/19 -- score: 0.5533244730209828\n",
      "[2024-08-16 07:23:03] Features: 7/19 -- score: 0.5553722185373016\n",
      "[2024-08-16 07:23:21] Features: 8/19 -- score: 0.5543529939853452\n",
      "[2024-08-16 07:23:40] Features: 9/19 -- score: 0.5472594650310126\n",
      "[2024-08-16 07:23:56] Features: 10/19 -- score: 0.545563625832236\n",
      "[2024-08-16 07:24:11] Features: 11/19 -- score: 0.5414117797292286\n",
      "[2024-08-16 07:24:25] Features: 12/19 -- score: 0.5385225239897147\n",
      "[2024-08-16 07:24:39] Features: 13/19 -- score: 0.5352839693860532\n",
      "[2024-08-16 07:24:51] Features: 14/19 -- score: 0.5354888914801418\n",
      "[2024-08-16 07:25:02] Features: 15/19 -- score: 0.533412343619654\n",
      "[2024-08-16 07:25:11] Features: 16/19 -- score: 0.5333229448866718\n",
      "[2024-08-16 07:25:18] Features: 17/19 -- score: 0.5282374221643046\n",
      "[2024-08-16 07:25:23] Features: 18/19 -- score: 0.5351064373974718\n",
      "[2024-08-16 07:25:25] Features: 19/19 -- score: 0.5190464225156187"
     ]
    }
   ],
   "source": [
    "# warnings\n",
    "simplefilter(action='ignore')\n",
    "\n",
    "# artifacts path\n",
    "artifacts_path = {'feature_selector': '../cache/temp/feature_selector.pkl', \n",
    "                  'model': f'../cache/temp/model.pkl'}\n",
    "\n",
    "# base model CHANGE HERE\n",
    "base_model = get_seleted_models(['XGB'])\n",
    "\n",
    "# transformers\n",
    "transformers = SFS(tree)\n",
    "\n",
    "# pipeline\n",
    "pipeline = Pipeline([('trans', transformers)] + base_model)\n",
    "\n",
    "# sfs\n",
    "sfs = SequentialFeatureSelector(\n",
    "    estimator=pipeline, k_features='best', forward=True, \n",
    "    cv=RepeatedStratifiedKFold(n_splits=10, n_repeats=3), \n",
    "    scoring=make_scorer(fbeta_score, beta=2), \n",
    "    verbose=2\n",
    ")\n",
    "sfs.fit(materials['X_train'], materials['y_train'])\n",
    "## dump \n",
    "dump_model(sfs, artifacts_path['feature_selector'])\n",
    "## pipeline\n",
    "pipeline.fit(sfs.transform(materials['X_train']), materials['y_train'])\n",
    "dump_model(pipeline, artifacts_path['model'])"
   ]
  },
  {
   "cell_type": "code",
   "execution_count": 11,
   "metadata": {},
   "outputs": [
    {
     "name": "stderr",
     "output_type": "stream",
     "text": [
      "Downloading artifacts: 100%|██████████| 1/1 [00:00<00:00, 1978.45it/s]\n",
      "Downloading artifacts: 100%|██████████| 1/1 [00:00<00:00, 1978.45it/s]\n",
      "Downloading artifacts: 100%|██████████| 1/1 [00:00<00:00, 1151.65it/s]\n"
     ]
    }
   ],
   "source": [
    "# mlflow\n",
    "##\n",
    "val_predictions = pipeline.predict(sfs.transform(materials['X_test']))\n",
    "val_fbeta = fbeta_score(materials['y_test'], val_predictions, \n",
    "                        beta=2)\n",
    "##\n",
    "with mlflow.start_run():\n",
    "    ### tags\n",
    "    tags['pre_pro'] = 'si(mean)_pwt_ohe'\n",
    "    tags['base_model'] = 'XGB' # CHANGE HERE\n",
    "    tags['feature_selection'] = 'true'\n",
    "    mlflow.set_tags(tags)\n",
    "    ### metrics\n",
    "    metrics['avg_fbeta'] = sfs.k_score_\n",
    "    metrics['val_fbeta'] = val_fbeta\n",
    "    mlflow.log_metrics(metrics)\n",
    "    ### log\n",
    "    mlflow.pyfunc.log_model(artifact_path='model', \n",
    "                            python_model=MLflowModel(),\n",
    "                            artifacts=artifacts_path, \n",
    "                            signature=infer_signature(materials['X_train']), \n",
    "                            pip_requirements=pip_requirements)"
   ]
  },
  {
   "cell_type": "markdown",
   "metadata": {},
   "source": [
    "<b>Quantile Transformation</b>"
   ]
  },
  {
   "cell_type": "code",
   "execution_count": 12,
   "metadata": {},
   "outputs": [],
   "source": [
    "# nodes\n",
    "def scale_test(data: dict) -> tuple[list, list]:\n",
    "    arr, idxes = data['X'], np.array(data['idxes'])\n",
    "    mask = pd.isnull(arr[:, idxes]).sum(axis=0) == 0\n",
    "    passed, failed = idxes[mask], idxes[~mask]\n",
    "\n",
    "    return passed, failed\n",
    "\n",
    "def impute_test(data: dict) -> tuple[list, list]:\n",
    "    return data['idxes'], []\n",
    "\n",
    "def ohe_test(data: dict) -> tuple[list, list]:\n",
    "    return data['idxes'], []\n",
    "\n",
    "scale = Node('qtt', QuantileTransformer(output_distribution='normal'))\n",
    "scale.test = scale_test\n",
    "\n",
    "impute = Node('impute', make_pipeline(SimpleImputer(), QuantileTransformer(output_distribution='normal')))\n",
    "impute.test = impute_test\n",
    "scale.next = impute\n",
    "\n",
    "ohe = Node('ohe', OneHotEncoder(drop='first', sparse_output=False))\n",
    "ohe.test = ohe_test\n",
    "\n",
    "tree = InitBinaryTree([scale, impute], [ohe])"
   ]
  },
  {
   "cell_type": "code",
   "execution_count": 13,
   "metadata": {},
   "outputs": [
    {
     "name": "stderr",
     "output_type": "stream",
     "text": [
      "\n",
      "[2024-08-16 07:25:36] Features: 1/19 -- score: 0.28615144136292886\n",
      "[2024-08-16 07:25:55] Features: 2/19 -- score: 0.4855990714468053\n",
      "[2024-08-16 07:26:14] Features: 3/19 -- score: 0.5202577852909137\n",
      "[2024-08-16 07:26:33] Features: 4/19 -- score: 0.5399615823087714\n",
      "[2024-08-16 07:26:52] Features: 5/19 -- score: 0.5554917793788108\n",
      "[2024-08-16 07:27:11] Features: 6/19 -- score: 0.5581352060881639\n",
      "[2024-08-16 07:27:29] Features: 7/19 -- score: 0.5607047286167577\n",
      "[2024-08-16 07:27:47] Features: 8/19 -- score: 0.5538732555625491\n",
      "[2024-08-16 07:28:04] Features: 9/19 -- score: 0.5528489308234494\n",
      "[2024-08-16 07:28:20] Features: 10/19 -- score: 0.5483205857784373\n",
      "[2024-08-16 07:28:35] Features: 11/19 -- score: 0.5439865105165503\n",
      "[2024-08-16 07:28:48] Features: 12/19 -- score: 0.5369239633245971\n",
      "[2024-08-16 07:29:02] Features: 13/19 -- score: 0.5337661835078671\n",
      "[2024-08-16 07:29:13] Features: 14/19 -- score: 0.5334615709693301\n",
      "[2024-08-16 07:29:23] Features: 15/19 -- score: 0.5319007031944528\n",
      "[2024-08-16 07:29:32] Features: 16/19 -- score: 0.5320353713258119\n",
      "[2024-08-16 07:29:39] Features: 17/19 -- score: 0.5322637739133025\n",
      "[2024-08-16 07:29:44] Features: 18/19 -- score: 0.5293417125532096\n",
      "[2024-08-16 07:29:46] Features: 19/19 -- score: 0.5270751304146549"
     ]
    }
   ],
   "source": [
    "# warnings\n",
    "simplefilter(action='ignore')\n",
    "\n",
    "# artifacts_path\n",
    "artifacts_path = {'feature_selector': '../cache/temp/feature_selector.pkl', \n",
    "                  'model': f'../cache/temp/model.pkl'}\n",
    "\n",
    "# base model \n",
    "base_model = get_seleted_models(['XGB']) # CHANGE HERE\n",
    "\n",
    "# transformers\n",
    "transformers = SFS(tree)\n",
    "\n",
    "# pipeline\n",
    "pipeline = Pipeline([('trans', transformers)] + base_model)\n",
    "\n",
    "# sfs\n",
    "sfs = SequentialFeatureSelector(\n",
    "    estimator=pipeline, k_features='best', forward=True, \n",
    "    cv=RepeatedStratifiedKFold(n_splits=10, n_repeats=3), \n",
    "    scoring=make_scorer(fbeta_score, beta=2), \n",
    "    verbose=2\n",
    "\n",
    ")\n",
    "sfs.fit(materials['X_train'], materials['y_train'])\n",
    "## dump\n",
    "dump_model(sfs, artifacts_path['feature_selector'])\n",
    "## pipeline\n",
    "pipeline.fit(sfs.transform(materials['X_train']), materials['y_train'])\n",
    "dump_model(pipeline, artifacts_path['model'])"
   ]
  },
  {
   "cell_type": "code",
   "execution_count": 14,
   "metadata": {},
   "outputs": [
    {
     "name": "stderr",
     "output_type": "stream",
     "text": [
      "Downloading artifacts: 100%|██████████| 1/1 [00:00<00:00, 1632.02it/s] \n",
      "Downloading artifacts: 100%|██████████| 1/1 [00:00<00:00, 1632.02it/s] \n",
      "Downloading artifacts: 100%|██████████| 1/1 [00:00<00:00, 1491.04it/s]\n"
     ]
    }
   ],
   "source": [
    "# mflow\n",
    "## \n",
    "val_predictions = pipeline.predict(sfs.transform(materials['X_test']))\n",
    "val_fbeta = fbeta_score(materials['y_test'], val_predictions, \n",
    "                        beta=2)\n",
    "##\n",
    "with mlflow.start_run():\n",
    "    ### tags\n",
    "    tags['pre_pro'] = 'si(mean)_qtt_ohe'\n",
    "    tags['base_model'] = 'XGB' # CHANGE HERE\n",
    "    tags['feature_selection'] = 'true'\n",
    "    mlflow.set_tags(tags)\n",
    "    ### metrics\n",
    "    metrics['avg_fbeta'] = sfs.k_score_\n",
    "    metrics['val_fbeta'] = val_fbeta\n",
    "    mlflow.log_metrics(metrics)\n",
    "    ###\n",
    "    mlflow.pyfunc.log_model(artifact_path='model', \n",
    "                            python_model=MLflowModel(), \n",
    "                            artifacts=artifacts_path, \n",
    "                            signature=infer_signature(materials['X_train']), \n",
    "                            pip_requirements=pip_requirements)"
   ]
  },
  {
   "cell_type": "markdown",
   "metadata": {},
   "source": [
    "# 3. Factor Analysis"
   ]
  },
  {
   "cell_type": "markdown",
   "metadata": {},
   "source": [
    "# 4. Resampling"
   ]
  },
  {
   "cell_type": "code",
   "execution_count": 17,
   "metadata": {},
   "outputs": [],
   "source": [
    "# nodes\n",
    "def scale_test(data: dict) -> tuple[list, list]:\n",
    "    arr, idxes = data['X'], np.array(data['idxes'])\n",
    "    mask = pd.isnull(arr[:, idxes]).sum(axis=0) == 0\n",
    "    passed, failed = idxes[mask].tolist(), idxes[~mask].tolist()\n",
    "\n",
    "    return passed, failed\n",
    "\n",
    "def impute_test(data: dict) -> tuple[list, list]:\n",
    "    return data['idxes'], []\n",
    "\n",
    "def ohe_test(data: dict) -> tuple[list, list]:\n",
    "    return data['idxes'], []\n",
    "\n",
    "scale = Node('std', StandardScaler())\n",
    "scale.test = scale_test\n",
    "\n",
    "impute = Node('impute', make_pipeline(SimpleImputer(), StandardScaler()))\n",
    "impute.test = impute_test\n",
    "scale.next = impute\n",
    "\n",
    "ohe = Node('ohe', OneHotEncoder(drop='first', sparse_output=False))\n",
    "ohe.test = ohe_test\n",
    "\n",
    "tree = InitBinaryTree([scale, impute], [ohe])"
   ]
  },
  {
   "cell_type": "code",
   "execution_count": 24,
   "metadata": {},
   "outputs": [],
   "source": [
    "# data\n",
    "run_id = mlflow.search_runs(\n",
    "    filter_string=\"tags.base_model = 'XGB' and tags.pre_pro = 'si(mean)_std_ohe'\", # CHANGE HERE\n",
    "    order_by=[\"metrics.avg_fbeta DESC\"]\n",
    ")['run_id'].values[0]\n",
    "path = mlflow.artifacts.download_artifacts(f\"runs:/{run_id}/model/artifacts/feature_selector.pkl\")\n",
    "with open(path, 'rb') as f:\n",
    "    sfs = cloudpickle.load(f)\n",
    "    selected_X_train = sfs.transform(materials['X_train'])\n",
    "##\n",
    "artifacts_path = {'feature_selector': path}"
   ]
  },
  {
   "cell_type": "code",
   "execution_count": 25,
   "metadata": {},
   "outputs": [
    {
     "name": "stdout",
     "output_type": "stream",
     "text": [
      "ROS: 0.6783655823684643 (0.03698655856563033)\n"
     ]
    },
    {
     "name": "stderr",
     "output_type": "stream",
     "text": [
      "Downloading artifacts: 100%|██████████| 1/1 [00:00<00:00, 1331.53it/s]\n",
      "Downloading artifacts: 100%|██████████| 1/1 [00:00<00:00, 916.39it/s] \n"
     ]
    },
    {
     "name": "stdout",
     "output_type": "stream",
     "text": [
      "SMOTE: 0.6758073962017029 (0.02338471924945646)\n"
     ]
    },
    {
     "name": "stderr",
     "output_type": "stream",
     "text": [
      "Downloading artifacts: 100%|██████████| 1/1 [00:00<00:00, 1230.00it/s]\n",
      "Downloading artifacts: 100%|██████████| 1/1 [00:00<00:00, 1779.51it/s]\n"
     ]
    },
    {
     "name": "stdout",
     "output_type": "stream",
     "text": [
      "SMOTEENN: 0.7174282786253379 (0.0207446504551836)\n"
     ]
    },
    {
     "name": "stderr",
     "output_type": "stream",
     "text": [
      "Downloading artifacts: 100%|██████████| 1/1 [00:00<00:00, 1575.03it/s] \n",
      "Downloading artifacts: 100%|██████████| 1/1 [00:00<00:00, 1648.06it/s]\n"
     ]
    },
    {
     "name": "stdout",
     "output_type": "stream",
     "text": [
      "SMOTETomek: 0.6790299205988762 (0.03827259755866856)\n"
     ]
    },
    {
     "name": "stderr",
     "output_type": "stream",
     "text": [
      "Downloading artifacts: 100%|██████████| 1/1 [00:00<00:00, 1099.42it/s]\n",
      "Downloading artifacts: 100%|██████████| 1/1 [00:00<00:00, 1099.42it/s]\n",
      "Downloading artifacts: 100%|██████████| 1/1 [00:00<00:00, 1011.89it/s]\n"
     ]
    }
   ],
   "source": [
    "# warnings\n",
    "simplefilter(action='ignore')\n",
    "\n",
    "# resamplers\n",
    "resamplers = load_resammplers()\n",
    "\n",
    "# base model\n",
    "base_model = get_seleted_models(['XGB'])\n",
    "\n",
    "# transformers\n",
    "transformers = SFS(tree)\n",
    "\n",
    "# evaluation \n",
    "kfold_results = dict()\n",
    "for name, resampler in resamplers:\n",
    "    ##\n",
    "    pipeline = [(name, Pipeline([('trans', transformers), (name, resampler)] + base_model))]\n",
    "    cv_results = get_kfold_results(pipeline, selected_X_train, materials['y_train'])\n",
    "    kfold_results.update(cv_results)\n",
    "    ##\n",
    "    _, pipeline = pipeline[0]\n",
    "    pipeline.fit(selected_X_train, materials['y_train'])\n",
    "    artifacts_path['model'] = f'../cache/temp/model.pkl'\n",
    "    dump_model(pipeline, artifacts_path['model'])\n",
    "    ## mlflow\n",
    "    val_predictions = pipeline.predict(sfs.transform(materials['X_test']))\n",
    "    val_fbeta = fbeta_score(materials['y_test'], val_predictions, \n",
    "                            beta=2)\n",
    "    with mlflow.start_run():\n",
    "        ### tags\n",
    "        tags['base_model'] = 'XGB'\n",
    "        tags['pre_pro'] = f'si(mean)_std_ohe_{name.lower()}'\n",
    "        tags['feature_selection'] = 'true'\n",
    "        mlflow.set_tags(tags)\n",
    "        ### metrics\n",
    "        metrics['avg_fbeta'] = cv_results[name].mean()\n",
    "        metrics['val_fbeta'] = val_fbeta\n",
    "        mlflow.log_metrics(metrics)\n",
    "        ### model\n",
    "        mlflow.pyfunc.log_model(artifact_path='model', \n",
    "                                python_model=MLflowModel(), \n",
    "                                artifacts=artifacts_path, # the bug is here, assign the 'feature_selector' path too\n",
    "                                signature=infer_signature(materials['X_train']),\n",
    "                                pip_requirements=pip_requirements)"
   ]
  },
  {
   "cell_type": "code",
   "execution_count": 26,
   "metadata": {},
   "outputs": [
    {
     "data": {
      "image/png": "[encoded data removed]",
      "text/plain": [
       "<Figure size 640x480 with 1 Axes>"
      ]
     },
     "metadata": {},
     "output_type": "display_data"
    }
   ],
   "source": [
    "# plot\n",
    "plot_kfold_results(kfold_results)"
   ]
  },
  {
   "cell_type": "markdown",
   "metadata": {},
   "source": [
    "# 5. Finalize Model"
   ]
  },
  {
   "cell_type": "code",
   "execution_count": 27,
   "metadata": {},
   "outputs": [],
   "source": [
    "# search runs\n",
    "## notes: if using nodes, the function for the node should be present in memory \n",
    "run_id = mlflow.search_runs(\n",
    "    filter_string=\"tag.pre_pro = 'si(mean)_std_ohe' and tags.base_model = 'XGB'\" # CHANGE HERE: be careful of the bug, which is due to wrong logging order\n",
    ")['run_id'].values[0]\n",
    "model = mlflow.pyfunc.load_model(f\"runs:/{run_id}/model\")"
   ]
  },
  {
   "cell_type": "code",
   "execution_count": 29,
   "metadata": {},
   "outputs": [
    {
     "name": "stdout",
     "output_type": "stream",
     "text": [
      "FBeta score: 0.5452562704471101 \n",
      "Classification report: \n",
      "              precision    recall  f1-score   support\n",
      "\n",
      "           0       0.84      0.87      0.85      1552\n",
      "           1       0.59      0.53      0.56       561\n",
      "\n",
      "    accuracy                           0.78      2113\n",
      "   macro avg       0.71      0.70      0.71      2113\n",
      "weighted avg       0.77      0.78      0.77      2113\n",
      "\n"
     ]
    },
    {
     "data": {
      "image/png": "[encoded data removed]",
      "text/plain": [
       "<Figure size 640x480 with 1 Axes>"
      ]
     },
     "metadata": {},
     "output_type": "display_data"
    }
   ],
   "source": [
    "# make predictions \n",
    "## fbeta & classification report\n",
    "val_predictions = model.predict(materials['X_test'])\n",
    "val_fbeta = fbeta_score(materials['y_test'], val_predictions, \n",
    "                        beta=2)\n",
    "print(f\"FBeta score: {val_fbeta} \\nClassification report: \\n{classification_report(materials['y_test'], val_predictions)}\")\n",
    "\n",
    "## confusion matrix\n",
    "data = confusion_matrix(materials['y_test'], val_predictions)\n",
    "g = sns.heatmap(data, \n",
    "            annot=True, fmt='.0f', \n",
    "            cmap='coolwarm', cbar=False)\n",
    "g.xaxis.tick_top()\n",
    "g.set_xticklabels(['Not churned', 'Churned'])\n",
    "g.set_yticklabels(['Not churned', 'Churned'])\n",
    "g.set_title(label='Feature engineering: Confusion matrix (XGB)', # CHANGE HERE\n",
    "            fontdict=dict(weight='bold'))\n",
    "g.get_figure().savefig('../cache/graphs/fe_conf_matrix_xgb_std.png')\n",
    "\n",
    "plt.show()"
   ]
  }
 ],
 "metadata": {
  "kernelspec": {
   "display_name": "mlops",
   "language": "python",
   "name": "python3"
  },
  "language_info": {
   "codemirror_mode": {
    "name": "ipython",
    "version": 3
   },
   "file_extension": ".py",
   "mimetype": "text/x-python",
   "name": "python",
   "nbconvert_exporter": "python",
   "pygments_lexer": "ipython3",
   "version": "3.11.9"
  }
 },
 "nbformat": 4,
 "nbformat_minor": 2
}
