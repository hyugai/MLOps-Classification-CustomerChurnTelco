{
 "cells": [
  {
   "cell_type": "markdown",
   "metadata": {},
   "source": [
    "# Preparations"
   ]
  },
  {
   "cell_type": "markdown",
   "metadata": {},
   "source": [
    "<b>Load Libraries</b>"
   ]
  },
  {
   "cell_type": "code",
   "execution_count": 1,
   "metadata": {},
   "outputs": [],
   "source": [
    "# udf \n",
    "import os, sys\n",
    "cwd = os.getcwd()\n",
    "os.chdir('../')\n",
    "path_to_src = os.getcwd()\n",
    "if path_to_src not in sys.path:\n",
    "    sys.path.append(path_to_src)\n",
    "os.chdir(cwd)\n",
    "##\n",
    "from src.notebook.support import *\n",
    "from src.mlflow.support import *\n",
    "\n",
    "# others \n",
    "from warnings import simplefilter"
   ]
  },
  {
   "cell_type": "markdown",
   "metadata": {},
   "source": [
    "<b>Load Dataset</b>"
   ]
  },
  {
   "cell_type": "code",
   "execution_count": 2,
   "metadata": {},
   "outputs": [],
   "source": [
    "# materials\n",
    "materials = prepare_data_to_train(path='../cache/data/cleaned.csv')"
   ]
  },
  {
   "cell_type": "markdown",
   "metadata": {},
   "source": [
    "<b>MLflow</b>"
   ]
  },
  {
   "cell_type": "code",
   "execution_count": 3,
   "metadata": {},
   "outputs": [],
   "source": [
    "# local server\n",
    "mlflow.set_tracking_uri('http://127.0.0.1:5000/')\n",
    "experiment_name = 'Feature engineering'\n",
    "try:\n",
    "    mlflow.create_experiment(name=experiment_name, artifact_location='cache/mlflow/runs/')\n",
    "except:\n",
    "    mlflow.set_experiment(experiment_name=experiment_name)"
   ]
  },
  {
   "cell_type": "code",
   "execution_count": 4,
   "metadata": {},
   "outputs": [],
   "source": [
    "# tags\n",
    "tags = {'pre_pro': None, 'base_model': None, \n",
    "        'feature_selection': 'false', 'beta_f': 2}\n",
    "\n",
    "# metrics\n",
    "metrics = {'avg_fbeta': None, 'val_fbeta': None}"
   ]
  },
  {
   "cell_type": "markdown",
   "metadata": {},
   "source": [
    "# 1. Baseline Evaluation"
   ]
  },
  {
   "cell_type": "code",
   "execution_count": 16,
   "metadata": {},
   "outputs": [],
   "source": [
    "# dtype's indexs separation\n",
    "num_iters = materials['X_train'].shape[1]\n",
    "num_idxes, cat_idxes = [], []\n",
    "for i in range(num_iters):\n",
    "    try:\n",
    "        float(materials['X_train'][0, i])\n",
    "        num_idxes.append(i)\n",
    "    except:\n",
    "        cat_idxes.append(i)"
   ]
  },
  {
   "cell_type": "code",
   "execution_count": 21,
   "metadata": {},
   "outputs": [
    {
     "name": "stdout",
     "output_type": "stream",
     "text": [
      "LR: 0.5576398777140695 (0.03318352891094596)\n",
      "KNN: 0.4580758774508246 (0.03971523899930276)\n",
      "SVM: 0.0 (0.0)\n",
      "CART: 0.4877050998677607 (0.04100404352911018)\n",
      "ET: 0.4866171256802644 (0.041132753594308756)\n",
      "RF: 0.4988824774994805 (0.04005701433661895)\n",
      "GB: 0.5334757398446867 (0.030294471597094256)\n",
      "LGBM: 0.534500564541397 (0.03492077482020717)\n",
      "XGB: 0.5346661648584246 (0.03996922328547825)\n"
     ]
    }
   ],
   "source": [
    "# warnings\n",
    "simplefilter(action='ignore')\n",
    "\n",
    "# base models\n",
    "base_models = load_base_models()\n",
    "\n",
    "# trasnformers\n",
    "ct = ColumnTransformer([('num', SimpleImputer(strategy='mean'), num_idxes), \n",
    "                        ('cat', OneHotEncoder(drop='first', sparse_output=False), cat_idxes)])\n",
    "\n",
    "# pipeline\n",
    "pipelines = []\n",
    "for name, model in base_models:\n",
    "    pipeline = Pipeline([('trans', ct), \n",
    "                         (name, model)])\n",
    "    pipelines.append((name, pipeline))\n",
    "\n",
    "kfold_results = get_kfold_results(pipelines, materials['X_train'], materials['y_train'])"
   ]
  },
  {
   "cell_type": "code",
   "execution_count": 22,
   "metadata": {},
   "outputs": [
    {
     "data": {
      "image/png": "[encoded data removed]",
      "text/plain": [
       "<Figure size 640x480 with 1 Axes>"
      ]
     },
     "metadata": {},
     "output_type": "display_data"
    }
   ],
   "source": [
    "# plot kfold results\n",
    "plot_kfold_results(kfold_results, 'Baseline Evaluation')"
   ]
  },
  {
   "cell_type": "code",
   "execution_count": 33,
   "metadata": {},
   "outputs": [],
   "source": [
    "# mlflow\n",
    "for name, pipeline in pipelines:\n",
    "    ##\n",
    "    pipeline.fit(materials['X_train'], materials['y_train'])\n",
    "    val_predictions = pipeline.predict(materials['X_test'])\n",
    "    val_fbeta = fbeta_score(y_true=materials['y_test'], y_pred=val_predictions, \n",
    "                            beta=2)\n",
    "    ##\n",
    "    with mlflow.start_run():\n",
    "        ### tags\n",
    "        tags['pre_pro'] = 'si(mean)_ohe'\n",
    "        tags['base_model'] = name\n",
    "        mlflow.set_tags(tags)\n",
    "        ###\n",
    "        metrics['avg_fbeta'] = kfold_results[name].mean()\n",
    "        metrics['val_fbeta'] = val_fbeta\n",
    "        mlflow.log_metrics(metrics)\n",
    "        ###\n",
    "        mlflow.sklearn.log_model(artifact_path='model', \n",
    "                                 sk_model=pipeline)"
   ]
  },
  {
   "cell_type": "code",
   "execution_count": 11,
   "metadata": {},
   "outputs": [
    {
     "data": {
      "text/plain": [
       "['cloudpickle==3.0.0',\n",
       " 'imbalanced-learn==0.12.3',\n",
       " 'numpy==1.26.4',\n",
       " 'psutil==6.0.0',\n",
       " 'scikit-learn==1.5.1',\n",
       " 'scipy==1.14.0',\n",
       " 'mlxtend==0.23.1']"
      ]
     },
     "execution_count": 11,
     "metadata": {},
     "output_type": "execute_result"
    }
   ],
   "source": [
    "# infer pip requirements\n",
    "runs_id = mlflow.search_runs(\n",
    "    filter_string=\"tags.base_model = 'LR' and tags.pre_pro = 'si(mean)_ohe'\"\n",
    ")['run_id'].values[0]\n",
    "pip_requirements = infer_pip_requirements(\n",
    "    model_uri=f'runs:/{runs_id}/model', \n",
    "    flavor='sklearn'\n",
    ")\n",
    "pip_requirements.extend(['mlxtend==0.23.1'])\n",
    "pip_requirements"
   ]
  },
  {
   "cell_type": "markdown",
   "metadata": {},
   "source": [
    "# 2. Scaling"
   ]
  },
  {
   "cell_type": "markdown",
   "metadata": {},
   "source": [
    "<b>Standardization</b>"
   ]
  },
  {
   "cell_type": "code",
   "execution_count": 8,
   "metadata": {},
   "outputs": [],
   "source": [
    "# nodes\n",
    "def scale_test(data: dict) -> tuple[list, list]:\n",
    "    arr, idxes = data['X'], np.array(data['idxes'])\n",
    "    mask = pd.isnull(arr[:, idxes]).sum(axis=0) == 0\n",
    "    passed, failed = idxes[mask].tolist(), idxes[~mask].tolist()\n",
    "\n",
    "    return passed, failed\n",
    "\n",
    "def impute_test(data: dict) -> tuple[list, list]:\n",
    "    return data['idxes'], []\n",
    "\n",
    "def ohe_test(data: dict) -> tuple[list, list]:\n",
    "    return data['idxes'], []\n",
    "\n",
    "std = Node('std', StandardScaler())\n",
    "std.test = scale_test\n",
    "\n",
    "impute = Node('impute', make_pipeline(SimpleImputer(), StandardScaler()))\n",
    "impute.test = impute_test\n",
    "std.next = impute\n",
    "\n",
    "ohe = Node('ohe', OneHotEncoder(drop='first', sparse_output=False))\n",
    "ohe.test = ohe_test\n",
    "\n",
    "left = [std, impute]\n",
    "right = [ohe]\n",
    "\n",
    "tree = InitBinaryTree(left, right)"
   ]
  },
  {
   "cell_type": "code",
   "execution_count": 9,
   "metadata": {},
   "outputs": [
    {
     "name": "stderr",
     "output_type": "stream",
     "text": [
      "\n",
      "[2024-08-15 21:57:21] Features: 1/19 -- score: 0.2848382638446262\n",
      "[2024-08-15 21:57:58] Features: 2/19 -- score: 0.48534616424939436\n",
      "[2024-08-15 21:57:57] Features: 3/19 -- score: 0.5208949186422216\n",
      "[2024-08-15 21:58:34] Features: 4/19 -- score: 0.5408315286301734\n",
      "[2024-08-15 21:58:34] Features: 5/19 -- score: 0.5529238845811114\n",
      "[2024-08-15 21:58:53] Features: 6/19 -- score: 0.5567182594460093\n",
      "[2024-08-15 21:59:11] Features: 7/19 -- score: 0.5538462516080928\n",
      "[2024-08-15 21:59:48] Features: 8/19 -- score: 0.5555037326138674\n",
      "[2024-08-15 21:59:49] Features: 9/19 -- score: 0.5460872579271936\n",
      "[2024-08-15 22:00:23] Features: 10/19 -- score: 0.5413153375785638\n",
      "[2024-08-15 22:00:20] Features: 11/19 -- score: 0.5427975332382754\n",
      "[2024-08-15 22:00:33] Features: 12/19 -- score: 0.5362157932914375\n",
      "[2024-08-15 22:00:46] Features: 13/19 -- score: 0.5418259934328268\n",
      "[2024-08-15 22:00:57] Features: 14/19 -- score: 0.5363685172188956\n",
      "[2024-08-15 22:01:07] Features: 15/19 -- score: 0.5351834582741938\n",
      "[2024-08-15 22:01:15] Features: 16/19 -- score: 0.5279464634009549\n",
      "[2024-08-15 22:01:21] Features: 17/19 -- score: 0.5259666705532504\n",
      "[2024-08-15 22:01:25] Features: 18/19 -- score: 0.5255211867883944\n",
      "[2024-08-15 22:01:27] Features: 19/19 -- score: 0.5322967862319675"
     ]
    }
   ],
   "source": [
    "# warnings\n",
    "simplefilter(action='ignore')\n",
    "\n",
    "# artifacts path\n",
    "artifacts_path = {'feature_selector': '../cache/temp/feature_selector.pkl', \n",
    "                  'model': '../cache/temp/model.pkl'}\n",
    "\n",
    "# base model CHANGE HERE\n",
    "base_model = get_seleted_models(['XGB'])\n",
    "\n",
    "# transformers\n",
    "transformers = SFS(tree)\n",
    "\n",
    "# pipeline\n",
    "pipeline = Pipeline([('trans', transformers)] + base_model)\n",
    "\n",
    "# sfs\n",
    "sfs = SequentialFeatureSelector(\n",
    "    estimator=pipeline, k_features='best', forward=True, \n",
    "    cv=RepeatedStratifiedKFold(n_splits=10, n_repeats=3), \n",
    "    scoring=make_scorer(fbeta_score, beta=2),\n",
    "    verbose=2\n",
    ")\n",
    "sfs.fit(materials['X_train'], materials['y_train'])\n",
    "## dump sfs\n",
    "dump_model(sfs, artifacts_path['feature_selector'])\n",
    "## dump pipeline\n",
    "pipeline.fit(sfs.transform(materials['X_train']), materials['y_train'])\n",
    "dump_model(pipeline, artifacts_path['model'])"
   ]
  },
  {
   "cell_type": "code",
   "execution_count": 12,
   "metadata": {},
   "outputs": [
    {
     "name": "stderr",
     "output_type": "stream",
     "text": [
      "Downloading artifacts: 100%|██████████| 1/1 [00:00<00:00, 1760.09it/s] \n",
      "Downloading artifacts: 100%|██████████| 1/1 [00:00<00:00, 1760.09it/s] \n",
      "Downloading artifacts: 100%|██████████| 1/1 [00:00<00:00, 1184.50it/s]\n"
     ]
    }
   ],
   "source": [
    "# mlflow\n",
    "##\n",
    "val_predictions = pipeline.predict(sfs.transform(materials['X_test']))\n",
    "val_fbeta = fbeta_score(y_true=materials['y_test'], y_pred=val_predictions, \n",
    "                        beta=2)\n",
    "##\n",
    "with mlflow.start_run():\n",
    "    ### tags\n",
    "    tags['pre_pro'] = 'si(mean)_std_ohe'\n",
    "    tags['base_model'] = 'XGB' # CHANGE HERE\n",
    "    tags['feature_selection'] = 'true'\n",
    "    mlflow.set_tags(tags)\n",
    "    ### metrics\n",
    "    metrics['avg_fbeta'] = sfs.k_score_\n",
    "    metrics['val_fbeta'] = val_fbeta\n",
    "    mlflow.log_metrics(metrics)\n",
    "    ### pipeline\n",
    "    mlflow.pyfunc.log_model(artifact_path='model', \n",
    "                            python_model=MLflowModel(), \n",
    "                            artifacts=artifacts_path,\n",
    "                            signature=infer_signature(materials['X_train']), \n",
    "                            pip_requirements=pip_requirements)"
   ]
  },
  {
   "cell_type": "markdown",
   "metadata": {},
   "source": [
    "<b>Power Transformation</b>"
   ]
  },
  {
   "cell_type": "code",
   "execution_count": 13,
   "metadata": {},
   "outputs": [],
   "source": [
    "# nodes\n",
    "def scale_test(data: dict) -> tuple[list, list]:\n",
    "    arr, idxes = data['X'], np.array(data['idxes'])\n",
    "    mask = pd.isnull(arr[:, idxes]).sum(axis=0) == 0\n",
    "    passed, failed = idxes[mask], idxes[~mask]\n",
    "\n",
    "    return passed, failed\n",
    "\n",
    "def impute_test(data: dict) -> tuple[list, list]:\n",
    "    return data['idxes'], []\n",
    "\n",
    "def ohe_test(data: dict) -> tuple[list, list]:\n",
    "    return data['idxes'], []\n",
    "\n",
    "scale = Node('pwt', PowerTransformer(method='yeo-johnson'))\n",
    "scale.test = scale_test\n",
    "\n",
    "impute = Node('impute', make_pipeline(SimpleImputer(), PowerTransformer(method='yeo-johnson')))\n",
    "impute.test = impute_test\n",
    "scale.next = impute\n",
    "\n",
    "ohe = Node('ohe', OneHotEncoder(drop='first', sparse_output=False))\n",
    "ohe.test = ohe_test\n",
    "\n",
    "tree = InitBinaryTree([scale, impute], [ohe])"
   ]
  },
  {
   "cell_type": "code",
   "execution_count": 14,
   "metadata": {},
   "outputs": [
    {
     "name": "stderr",
     "output_type": "stream",
     "text": [
      "\n",
      "[2024-08-15 22:03:06] Features: 1/19 -- score: 0.28341820062810874\n",
      "[2024-08-15 22:03:10] Features: 2/19 -- score: 0.48350243490728734\n",
      "[2024-08-15 22:03:38] Features: 3/19 -- score: 0.522623153735365\n",
      "[2024-08-15 22:04:04] Features: 4/19 -- score: 0.536559036235749\n",
      "[2024-08-15 22:04:25] Features: 5/19 -- score: 0.5488711781883358\n",
      "[2024-08-15 22:05:04] Features: 6/19 -- score: 0.5563028864534236\n",
      "[2024-08-15 22:05:24] Features: 7/19 -- score: 0.5520737738787799\n",
      "[2024-08-15 22:05:24] Features: 8/19 -- score: 0.5487893061228608\n",
      "[2024-08-15 22:05:43] Features: 9/19 -- score: 0.5510112321786355\n",
      "[2024-08-15 22:06:18] Features: 10/19 -- score: 0.5490013744480178\n",
      "[2024-08-15 22:06:15] Features: 11/19 -- score: 0.5420896772626672\n",
      "[2024-08-15 22:06:29] Features: 12/19 -- score: 0.5345376827092368\n",
      "[2024-08-15 22:06:43] Features: 13/19 -- score: 0.53611232092141\n",
      "[2024-08-15 22:06:55] Features: 14/19 -- score: 0.5370485886712547\n",
      "[2024-08-15 22:07:06] Features: 15/19 -- score: 0.533641923436866\n",
      "[2024-08-15 22:07:15] Features: 16/19 -- score: 0.5322758777932888\n",
      "[2024-08-15 22:07:22] Features: 17/19 -- score: 0.5334875490906502\n",
      "[2024-08-15 22:07:45] Features: 18/19 -- score: 0.5288804797566136\n",
      "[2024-08-15 22:07:48] Features: 19/19 -- score: 0.5308741674887991"
     ]
    }
   ],
   "source": [
    "# warnings\n",
    "simplefilter(action='ignore')\n",
    "\n",
    "# artifacts path\n",
    "artifacts_path = {'feature_selector': '../cache/temp/feature_selector.pkl', \n",
    "                  'model': f'../cache/temp/model.pkl'}\n",
    "\n",
    "# base model CHANGE HERE\n",
    "base_model = get_seleted_models(['XGB'])\n",
    "\n",
    "# transformers\n",
    "transformers = SFS(tree)\n",
    "\n",
    "# pipeline\n",
    "pipeline = Pipeline([('trans', transformers)] + base_model)\n",
    "\n",
    "# sfs\n",
    "sfs = SequentialFeatureSelector(\n",
    "    estimator=pipeline, k_features='best', forward=True, \n",
    "    cv=RepeatedStratifiedKFold(n_splits=10, n_repeats=3), \n",
    "    scoring=make_scorer(fbeta_score, beta=2), \n",
    "    verbose=2\n",
    ")\n",
    "sfs.fit(materials['X_train'], materials['y_train'])\n",
    "## dump \n",
    "dump_model(sfs, artifacts_path['feature_selector'])\n",
    "## pipeline\n",
    "pipeline.fit(sfs.transform(materials['X_train']), materials['y_train'])\n",
    "dump_model(pipeline, artifacts_path['model'])"
   ]
  },
  {
   "cell_type": "code",
   "execution_count": 15,
   "metadata": {},
   "outputs": [
    {
     "name": "stderr",
     "output_type": "stream",
     "text": [
      "Downloading artifacts: 100%|██████████| 1/1 [00:00<00:00, 1597.22it/s] \n",
      "Downloading artifacts: 100%|██████████| 1/1 [00:00<00:00, 1597.22it/s] \n",
      "Downloading artifacts: 100%|██████████| 1/1 [00:00<00:00, 1966.39it/s] \n"
     ]
    }
   ],
   "source": [
    "# mlflow\n",
    "##\n",
    "val_predictions = pipeline.predict(sfs.transform(materials['X_test']))\n",
    "val_fbeta = fbeta_score(materials['y_test'], val_predictions, \n",
    "                        beta=2)\n",
    "##\n",
    "with mlflow.start_run():\n",
    "    ### tags\n",
    "    tags['pre_pro'] = 'si(mean)_pwt_ohe'\n",
    "    tags['base_model'] = 'XGB' # CHANGE HERE\n",
    "    tags['feature_selection'] = 'true'\n",
    "    mlflow.set_tags(tags)\n",
    "    ### metrics\n",
    "    metrics['avg_fbeta'] = sfs.k_score_\n",
    "    metrics['val_fbeta'] = val_fbeta\n",
    "    mlflow.log_metrics(metrics)\n",
    "    ### log\n",
    "    mlflow.pyfunc.log_model(artifact_path='model', \n",
    "                            python_model=MLflowModel(),\n",
    "                            artifacts=artifacts_path, \n",
    "                            signature=infer_signature(materials['X_train']), \n",
    "                            pip_requirements=pip_requirements)"
   ]
  },
  {
   "cell_type": "markdown",
   "metadata": {},
   "source": [
    "<b>Quantile Transformation</b>"
   ]
  },
  {
   "cell_type": "code",
   "execution_count": 16,
   "metadata": {},
   "outputs": [],
   "source": [
    "# nodes\n",
    "def scale_test(data: dict) -> tuple[list, list]:\n",
    "    arr, idxes = data['X'], np.array(data['idxes'])\n",
    "    mask = pd.isnull(arr[:, idxes]).sum(axis=0) == 0\n",
    "    passed, failed = idxes[mask], idxes[~mask]\n",
    "\n",
    "    return passed, failed\n",
    "\n",
    "def impute_test(data: dict) -> tuple[list, list]:\n",
    "    return data['idxes'], []\n",
    "\n",
    "def ohe_test(data: dict) -> tuple[list, list]:\n",
    "    return data['idxes'], []\n",
    "\n",
    "scale = Node('qtt', QuantileTransformer(output_distribution='normal'))\n",
    "scale.test = scale_test\n",
    "\n",
    "impute = Node('impute', make_pipeline(SimpleImputer(), QuantileTransformer(output_distribution='normal')))\n",
    "impute.test = impute_test\n",
    "scale.next = impute\n",
    "\n",
    "ohe = Node('ohe', OneHotEncoder(drop='first', sparse_output=False))\n",
    "ohe.test = ohe_test\n",
    "\n",
    "tree = InitBinaryTree([scale, impute], [ohe])"
   ]
  },
  {
   "cell_type": "code",
   "execution_count": 17,
   "metadata": {},
   "outputs": [
    {
     "name": "stderr",
     "output_type": "stream",
     "text": [
      "\n",
      "[2024-08-15 22:08:34] Features: 1/19 -- score: 0.2900314000748436\n",
      "[2024-08-15 22:08:35] Features: 2/19 -- score: 0.48250413839870304\n",
      "[2024-08-15 22:09:15] Features: 3/19 -- score: 0.5013323153571979\n",
      "[2024-08-15 22:09:18] Features: 4/19 -- score: 0.5203649872232681\n",
      "[2024-08-15 22:09:39] Features: 5/19 -- score: 0.5360221037127605\n",
      "[2024-08-15 22:10:00] Features: 6/19 -- score: 0.5355919377988712\n",
      "[2024-08-15 22:10:20] Features: 7/19 -- score: 0.5349649145822254\n",
      "[2024-08-15 22:10:40] Features: 8/19 -- score: 0.5390474875415411\n",
      "[2024-08-15 22:10:58] Features: 9/19 -- score: 0.5387627850898783\n",
      "[2024-08-15 22:11:34] Features: 10/19 -- score: 0.5382127509208129\n",
      "[2024-08-15 22:11:32] Features: 11/19 -- score: 0.5376697002779393\n",
      "[2024-08-15 22:11:47] Features: 12/19 -- score: 0.5345296774625776\n",
      "[2024-08-15 22:12:01] Features: 13/19 -- score: 0.5369038722193834\n",
      "[2024-08-15 22:12:31] Features: 14/19 -- score: 0.5340351851316739\n",
      "[2024-08-15 22:12:27] Features: 15/19 -- score: 0.5326239969670926\n",
      "[2024-08-15 22:12:35] Features: 16/19 -- score: 0.5293197794611206\n",
      "[2024-08-15 22:12:42] Features: 17/19 -- score: 0.5363859013316795\n",
      "[2024-08-15 22:12:46] Features: 18/19 -- score: 0.5280973188858518\n",
      "[2024-08-15 22:12:48] Features: 19/19 -- score: 0.528968074988521"
     ]
    }
   ],
   "source": [
    "# warnings\n",
    "simplefilter(action='ignore')\n",
    "\n",
    "# artifacts_path\n",
    "artifacts_path = {'feature_selector': '../cache/temp/feature_selector.pkl', \n",
    "                  'model': f'../cache/temp/model.pkl'}\n",
    "\n",
    "# base model CHANGE HERE\n",
    "base_model = get_seleted_models(['XGB'])\n",
    "\n",
    "# transformers\n",
    "transformers = SFS(tree)\n",
    "\n",
    "# pipeline\n",
    "pipeline = Pipeline([('trans', transformers)] + base_model)\n",
    "\n",
    "# sfs\n",
    "sfs = SequentialFeatureSelector(\n",
    "    estimator=pipeline, k_features='best', forward=True, \n",
    "    cv=RepeatedStratifiedKFold(n_splits=10, n_repeats=3), \n",
    "    scoring=make_scorer(fbeta_score, beta=2), \n",
    "    verbose=2\n",
    "\n",
    ")\n",
    "sfs.fit(materials['X_train'], materials['y_train'])\n",
    "## dump\n",
    "dump_model(sfs, artifacts_path['feature_selector'])\n",
    "## pipeline\n",
    "pipeline.fit(sfs.transform(materials['X_train']), materials['y_train'])\n",
    "dump_model(pipeline, artifacts_path['model'])"
   ]
  },
  {
   "cell_type": "code",
   "execution_count": 18,
   "metadata": {},
   "outputs": [
    {
     "name": "stderr",
     "output_type": "stream",
     "text": [
      "Downloading artifacts: 100%|██████████| 1/1 [00:00<00:00, 1013.36it/s]\n",
      "Downloading artifacts: 100%|██████████| 1/1 [00:00<00:00, 1013.36it/s]\n",
      "Downloading artifacts: 100%|██████████| 1/1 [00:00<00:00, 1216.80it/s]\n"
     ]
    }
   ],
   "source": [
    "# mflow\n",
    "## \n",
    "val_predictions = pipeline.predict(sfs.transform(materials['X_test']))\n",
    "val_fbeta = fbeta_score(materials['y_test'], val_predictions, \n",
    "                        beta=2)\n",
    "##\n",
    "with mlflow.start_run():\n",
    "    ### tags\n",
    "    tags['pre_pro'] = 'si(mean)_qtt_ohe'\n",
    "    tags['base_model'] = 'XGB' # CHANGE HERE\n",
    "    tags['feature_selection'] = 'true'\n",
    "    mlflow.set_tags(tags)\n",
    "    ### metrics\n",
    "    metrics['avg_fbeta'] = sfs.k_score_\n",
    "    metrics['val_fbeta'] = val_fbeta\n",
    "    mlflow.log_metrics(metrics)\n",
    "    ###\n",
    "    mlflow.pyfunc.log_model(artifact_path='model', \n",
    "                            python_model=MLflowModel(), \n",
    "                            artifacts=artifacts_path, \n",
    "                            signature=infer_signature(materials['X_train']), \n",
    "                            pip_requirements=pip_requirements)"
   ]
  },
  {
   "cell_type": "markdown",
   "metadata": {},
   "source": [
    "# 3. Factor Analysis"
   ]
  },
  {
   "cell_type": "markdown",
   "metadata": {},
   "source": [
    "# 4. Resampling"
   ]
  },
  {
   "cell_type": "code",
   "execution_count": 19,
   "metadata": {},
   "outputs": [],
   "source": [
    "# nodes\n",
    "def scale_test(data: dict) -> tuple[list, list]:\n",
    "    arr, idxes = data['X'], np.array(data['idxes'])\n",
    "    mask = pd.isnull(arr[:, idxes]).sum(axis=0) == 0\n",
    "    passed, failed = idxes[mask].tolist(), idxes[~mask].tolist()\n",
    "\n",
    "    return passed, failed\n",
    "\n",
    "def impute_test(data: dict) -> tuple[list, list]:\n",
    "    return data['idxes'], []\n",
    "\n",
    "def ohe_test(data: dict) -> tuple[list, list]:\n",
    "    return data['idxes'], []\n",
    "\n",
    "scale = Node('std', StandardScaler())\n",
    "scale.test = scale_test\n",
    "\n",
    "impute = Node('impute', make_pipeline(SimpleImputer(), StandardScaler()))\n",
    "impute.test = impute_test\n",
    "scale.next = impute\n",
    "\n",
    "ohe = Node('ohe', OneHotEncoder(drop='first', sparse_output=False))\n",
    "ohe.test = ohe_test\n",
    "\n",
    "tree = InitBinaryTree([scale, impute], [ohe])"
   ]
  },
  {
   "cell_type": "code",
   "execution_count": 20,
   "metadata": {},
   "outputs": [],
   "source": [
    "# data\n",
    "run_id = mlflow.search_runs(\n",
    "    filter_string=\"tags.base_model = 'XGB' and tags.pre_pro = 'si(mean)_std_ohe'\", # CHANGE HERE\n",
    "    order_by=[\"metrics.avg_fbeta DESC\"]\n",
    ")['run_id'].values[0]\n",
    "path = mlflow.artifacts.download_artifacts(f\"runs:/{run_id}/model/artifacts/feature_selector.pkl\")\n",
    "with open(path, 'rb') as f:\n",
    "    sfs = cloudpickle.load(f)\n",
    "    selected_X_train = sfs.transform(materials['X_train'])"
   ]
  },
  {
   "cell_type": "code",
   "execution_count": 35,
   "metadata": {},
   "outputs": [
    {
     "data": {
      "text/plain": [
       "(3, 4, 7, 8, 11, 14)"
      ]
     },
     "execution_count": 35,
     "metadata": {},
     "output_type": "execute_result"
    }
   ],
   "source": [
    "sfs.k_feature_idx_"
   ]
  },
  {
   "cell_type": "code",
   "execution_count": 21,
   "metadata": {},
   "outputs": [
    {
     "name": "stdout",
     "output_type": "stream",
     "text": [
      "ROS: 0.7052551249802277 (0.032370609483449546)\n"
     ]
    },
    {
     "name": "stderr",
     "output_type": "stream",
     "text": [
      "Downloading artifacts: 100%|██████████| 1/1 [00:00<00:00, 2149.82it/s] \n",
      "Downloading artifacts: 100%|██████████| 1/1 [00:00<00:00, 2868.88it/s] \n"
     ]
    },
    {
     "name": "stdout",
     "output_type": "stream",
     "text": [
      "SMOTE: 0.7049866677759287 (0.031614550540291116)\n"
     ]
    },
    {
     "name": "stderr",
     "output_type": "stream",
     "text": [
      "Downloading artifacts: 100%|██████████| 1/1 [00:00<00:00, 1623.18it/s] \n",
      "Downloading artifacts: 100%|██████████| 1/1 [00:00<00:00, 1702.23it/s] \n"
     ]
    },
    {
     "name": "stdout",
     "output_type": "stream",
     "text": [
      "SMOTEENN: 0.7383187918714004 (0.0199857969989762)\n"
     ]
    },
    {
     "name": "stderr",
     "output_type": "stream",
     "text": [
      "Downloading artifacts: 100%|██████████| 1/1 [00:00<00:00, 3563.55it/s] \n",
      "Downloading artifacts: 100%|██████████| 1/1 [00:00<00:00, 910.42it/s] \n"
     ]
    },
    {
     "name": "stdout",
     "output_type": "stream",
     "text": [
      "SMOTETomek: 0.7044635598096953 (0.032988542976976426)\n"
     ]
    },
    {
     "name": "stderr",
     "output_type": "stream",
     "text": [
      "Downloading artifacts: 100%|██████████| 1/1 [00:00<00:00, 3279.36it/s] \n",
      "Downloading artifacts: 100%|██████████| 1/1 [00:00<00:00, 3279.36it/s] \n",
      "Downloading artifacts: 100%|██████████| 1/1 [00:00<00:00, 3949.44it/s] \n"
     ]
    }
   ],
   "source": [
    "# warnings\n",
    "simplefilter(action='ignore')\n",
    "\n",
    "# resamplers\n",
    "resamplers = load_resammplers()\n",
    "\n",
    "# base model\n",
    "base_model = get_seleted_models(['LR'])\n",
    "\n",
    "# transformers\n",
    "transformers = SFS(tree)\n",
    "\n",
    "# evaluation \n",
    "kfold_results = dict()\n",
    "for name, resampler in resamplers:\n",
    "    ##\n",
    "    pipeline = [(name, Pipeline([('trans', transformers), (name, resampler)] + base_model))]\n",
    "    cv_results = get_kfold_results(pipeline, selected_X_train, materials['y_train'])\n",
    "    kfold_results.update(cv_results)\n",
    "    ##\n",
    "    _, pipeline = pipeline[0]\n",
    "    pipeline.fit(selected_X_train, materials['y_train'])\n",
    "    artifacts_path['model'] = f'../cache/temp/model.pkl'\n",
    "    dump_model(pipeline, artifacts_path['model'])\n",
    "    ## mlflow\n",
    "    val_predictions = pipeline.predict(sfs.transform(materials['X_test']))\n",
    "    val_fbeta = fbeta_score(materials['y_test'], val_predictions, \n",
    "                            beta=2)\n",
    "    with mlflow.start_run():\n",
    "        ### tags\n",
    "        tags['base_model'] = 'XGB'\n",
    "        tags['pre_pro'] = f'si(mean)_std_ohe_{name.lower()}'\n",
    "        tags['feature_selection'] = 'true'\n",
    "        mlflow.set_tags(tags)\n",
    "        ### metrics\n",
    "        metrics['avg_fbeta'] = cv_results[name].mean()\n",
    "        metrics['val_fbeta'] = val_fbeta\n",
    "        mlflow.log_metrics(metrics)\n",
    "        ### model\n",
    "        mlflow.pyfunc.log_model(artifact_path='model', \n",
    "                                python_model=MLflowModel(), \n",
    "                                artifacts=artifacts_path, \n",
    "                                signature=infer_signature(materials['X_train']),\n",
    "                                pip_requirements=pip_requirements)"
   ]
  },
  {
   "cell_type": "code",
   "execution_count": 22,
   "metadata": {},
   "outputs": [
    {
     "data": {
      "image/png": "[encoded data removed]",
      "text/plain": [
       "<Figure size 640x480 with 1 Axes>"
      ]
     },
     "metadata": {},
     "output_type": "display_data"
    }
   ],
   "source": [
    "# plot\n",
    "plot_kfold_results(kfold_results)"
   ]
  },
  {
   "cell_type": "markdown",
   "metadata": {},
   "source": [
    "# 5. Finalize Model"
   ]
  },
  {
   "cell_type": "code",
   "execution_count": 45,
   "metadata": {},
   "outputs": [],
   "source": [
    "# search runs\n",
    "## notes: if using nodes, the function for the node should be present in memory \n",
    "run_id = mlflow.search_runs(\n",
    "    filter_string=\"tag.pre_pro = 'si(mean)_std_ohe_smoteenn' and tags.base_model = 'XGB'\"\n",
    ")['run_id'].values[0]\n",
    "model = mlflow.pyfunc.load_model(f\"runs:/{run_id}/model\")"
   ]
  },
  {
   "cell_type": "code",
   "execution_count": null,
   "metadata": {},
   "outputs": [],
   "source": [
    "model.predict(materials['X_test'])"
   ]
  },
  {
   "cell_type": "code",
   "execution_count": 29,
   "metadata": {},
   "outputs": [
    {
     "name": "stdout",
     "output_type": "stream",
     "text": [
      "FBeta score: 0.7534443168771527 \n",
      "Classification report: \n",
      "              precision    recall  f1-score   support\n",
      "\n",
      "           0       0.96      0.54      0.69      1552\n",
      "           1       0.42      0.94      0.58       561\n",
      "\n",
      "    accuracy                           0.64      2113\n",
      "   macro avg       0.69      0.74      0.64      2113\n",
      "weighted avg       0.82      0.64      0.66      2113\n",
      "\n"
     ]
    },
    {
     "data": {
      "image/png": "[encoded data removed]",
      "text/plain": [
       "<Figure size 640x480 with 1 Axes>"
      ]
     },
     "metadata": {},
     "output_type": "display_data"
    }
   ],
   "source": [
    "# make predictions \n",
    "## fbeta & classification report\n",
    "val_predictions = model.predict(materials['X_test'])\n",
    "val_fbeta = fbeta_score(materials['y_test'], val_predictions, \n",
    "                        beta=2)\n",
    "print(f\"FBeta score: {val_fbeta} \\nClassification report: \\n{classification_report(materials['y_test'], val_predictions)}\")\n",
    "\n",
    "## confusion matrix\n",
    "data = confusion_matrix(materials['y_test'], val_predictions)\n",
    "g = sns.heatmap(data, \n",
    "            annot=True, fmt='.0f', \n",
    "            cmap='coolwarm', cbar=False)\n",
    "g.xaxis.tick_top()\n",
    "g.set_xticklabels(['Not churned', 'Churned'])\n",
    "g.set_yticklabels(['Not churned', 'Churned'])\n",
    "g.set_title(label='Feature engineering: Confusion matrix (LR)', \n",
    "            fontdict=dict(weight='bold'))\n",
    "g.get_figure().savefig('../cache/graphs/fe_conf_matrix_lr.png')\n",
    "\n",
    "plt.show()"
   ]
  }
 ],
 "metadata": {
  "kernelspec": {
   "display_name": "mlops",
   "language": "python",
   "name": "python3"
  },
  "language_info": {
   "codemirror_mode": {
    "name": "ipython",
    "version": 3
   },
   "file_extension": ".py",
   "mimetype": "text/x-python",
   "name": "python",
   "nbconvert_exporter": "python",
   "pygments_lexer": "ipython3",
   "version": "3.11.9"
  }
 },
 "nbformat": 4,
 "nbformat_minor": 2
}
