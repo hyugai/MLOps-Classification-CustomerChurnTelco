{
 "cells": [
  {
   "cell_type": "markdown",
   "metadata": {},
   "source": [
    "# Preparations"
   ]
  },
  {
   "cell_type": "markdown",
   "metadata": {},
   "source": [
    "<b>Load Libraries</b>"
   ]
  },
  {
   "cell_type": "code",
   "execution_count": 1,
   "metadata": {},
   "outputs": [],
   "source": [
    "# udf \n",
    "import os, sys\n",
    "cwd = os.getcwd()\n",
    "os.chdir('../')\n",
    "path_to_src = os.getcwd()\n",
    "if path_to_src not in sys.path:\n",
    "    sys.path.append(path_to_src)\n",
    "os.chdir(cwd)\n",
    "##\n",
    "from src.notebook.support import *\n",
    "\n",
    "# others \n",
    "from warnings import simplefilter"
   ]
  },
  {
   "cell_type": "markdown",
   "metadata": {},
   "source": [
    "<b>Load Dataset</b>"
   ]
  },
  {
   "cell_type": "code",
   "execution_count": 2,
   "metadata": {},
   "outputs": [],
   "source": [
    "# materials\n",
    "materials = prepare_data_to_train(path='../cache/data/cleaned.csv')"
   ]
  },
  {
   "cell_type": "markdown",
   "metadata": {},
   "source": [
    "<b>MLflow</b>"
   ]
  },
  {
   "cell_type": "code",
   "execution_count": 3,
   "metadata": {},
   "outputs": [],
   "source": [
    "# local server\n",
    "mlflow.set_tracking_uri('http://127.0.0.1:5000/')\n",
    "experiment_name = 'Feature engineering'\n",
    "try:\n",
    "    mlflow.create_experiment(name=experiment_name, artifact_location='cache/mlflow/')\n",
    "except:\n",
    "    mlflow.set_experiment(experiment_name=experiment_name)"
   ]
  },
  {
   "cell_type": "markdown",
   "metadata": {},
   "source": [
    "# Baseline Evaluation"
   ]
  },
  {
   "cell_type": "code",
   "execution_count": 3,
   "metadata": {},
   "outputs": [],
   "source": [
    "# base models\n",
    "base_models = load_base_models()\n",
    "\n",
    "# trasnformers\n",
    "transformers = {\n",
    "    'num_trans': Pipeline([('impute', SimpleImputer(strategy='mean')), \n",
    "                           ('scale', StandardScaler())]),\n",
    "    'cat_trans': OneHotEncoder(drop='first', sparse_output=False)\n",
    "}\n",
    "assigned_transformers = SFS(transformers)"
   ]
  }
 ],
 "metadata": {
  "kernelspec": {
   "display_name": "mlops",
   "language": "python",
   "name": "python3"
  },
  "language_info": {
   "codemirror_mode": {
    "name": "ipython",
    "version": 3
   },
   "file_extension": ".py",
   "mimetype": "text/x-python",
   "name": "python",
   "nbconvert_exporter": "python",
   "pygments_lexer": "ipython3",
   "version": "3.11.9"
  }
 },
 "nbformat": 4,
 "nbformat_minor": 2
}
