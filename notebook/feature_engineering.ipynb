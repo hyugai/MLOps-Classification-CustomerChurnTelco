{
 "cells": [
  {
   "cell_type": "markdown",
   "metadata": {},
   "source": [
    "# Preparations"
   ]
  },
  {
   "cell_type": "markdown",
   "metadata": {},
   "source": [
    "<b>Load Libraries</b>"
   ]
  },
  {
   "cell_type": "code",
   "execution_count": 10,
   "metadata": {},
   "outputs": [],
   "source": [
    "# udf \n",
    "import os, sys\n",
    "cwd = os.getcwd()\n",
    "os.chdir('../')\n",
    "path_to_src = os.getcwd()\n",
    "if path_to_src not in sys.path:\n",
    "    sys.path.append(path_to_src)\n",
    "os.chdir(cwd)\n",
    "##\n",
    "from src.notebook.support import *\n",
    "from src.mlflow.support import *\n",
    "\n",
    "# others \n",
    "from warnings import simplefilter"
   ]
  },
  {
   "cell_type": "markdown",
   "metadata": {},
   "source": [
    "<b>Load Dataset</b>"
   ]
  },
  {
   "cell_type": "code",
   "execution_count": 11,
   "metadata": {},
   "outputs": [],
   "source": [
    "# materials\n",
    "materials = prepare_data_to_train(path='../cache/data/cleaned.csv')"
   ]
  },
  {
   "cell_type": "markdown",
   "metadata": {},
   "source": [
    "<b>MLflow</b>"
   ]
  },
  {
   "cell_type": "code",
   "execution_count": 24,
   "metadata": {},
   "outputs": [],
   "source": [
    "# local server\n",
    "mlflow.set_tracking_uri('http://127.0.0.1:5000/')\n",
    "experiment_name = 'Feature engineering'\n",
    "try:\n",
    "    mlflow.create_experiment(name=experiment_name, artifact_location='cache/mlflow/runs/')\n",
    "except:\n",
    "    mlflow.set_experiment(experiment_name=experiment_name)"
   ]
  },
  {
   "cell_type": "code",
   "execution_count": 15,
   "metadata": {},
   "outputs": [],
   "source": [
    "# tags\n",
    "tags = {'pre_pro': None, 'base_model': None, \n",
    "        'feature_selection': 'false', 'beta_f': 2}\n",
    "\n",
    "# metrics\n",
    "metrics = {'avg_fbeta': None, 'val_fbeta': None}"
   ]
  },
  {
   "cell_type": "markdown",
   "metadata": {},
   "source": [
    "# 1. Baseline Evaluation"
   ]
  },
  {
   "cell_type": "code",
   "execution_count": 16,
   "metadata": {},
   "outputs": [],
   "source": [
    "# dtype's indexs separation\n",
    "num_iters = materials['X_train'].shape[1]\n",
    "num_idxes, cat_idxes = [], []\n",
    "for i in range(num_iters):\n",
    "    try:\n",
    "        float(materials['X_train'][0, i])\n",
    "        num_idxes.append(i)\n",
    "    except:\n",
    "        cat_idxes.append(i)"
   ]
  },
  {
   "cell_type": "code",
   "execution_count": 21,
   "metadata": {},
   "outputs": [
    {
     "name": "stdout",
     "output_type": "stream",
     "text": [
      "LR: 0.5576398777140695 (0.03318352891094596)\n",
      "KNN: 0.4580758774508246 (0.03971523899930276)\n",
      "SVM: 0.0 (0.0)\n",
      "CART: 0.4877050998677607 (0.04100404352911018)\n",
      "ET: 0.4866171256802644 (0.041132753594308756)\n",
      "RF: 0.4988824774994805 (0.04005701433661895)\n",
      "GB: 0.5334757398446867 (0.030294471597094256)\n",
      "LGBM: 0.534500564541397 (0.03492077482020717)\n",
      "XGB: 0.5346661648584246 (0.03996922328547825)\n"
     ]
    }
   ],
   "source": [
    "# warnings\n",
    "simplefilter(action='ignore')\n",
    "\n",
    "# base models\n",
    "base_models = load_base_models()\n",
    "\n",
    "# trasnformers\n",
    "ct = ColumnTransformer([('num', SimpleImputer(strategy='mean'), num_idxes), \n",
    "                        ('cat', OneHotEncoder(drop='first', sparse_output=False), cat_idxes)])\n",
    "\n",
    "# pipeline\n",
    "pipelines = []\n",
    "for name, model in base_models:\n",
    "    pipeline = Pipeline([('trans', ct), \n",
    "                         (name, model)])\n",
    "    pipelines.append((name, pipeline))\n",
    "\n",
    "kfold_results = get_kfold_results(pipelines, materials['X_train'], materials['y_train'])"
   ]
  },
  {
   "cell_type": "code",
   "execution_count": 22,
   "metadata": {},
   "outputs": [
    {
     "data": {
      "image/png": "[encoded data removed]",
      "text/plain": [
       "<Figure size 640x480 with 1 Axes>"
      ]
     },
     "metadata": {},
     "output_type": "display_data"
    }
   ],
   "source": [
    "# plot kfold results\n",
    "plot_kfold_results(kfold_results, 'Baseline Evaluation')"
   ]
  },
  {
   "cell_type": "code",
   "execution_count": 33,
   "metadata": {},
   "outputs": [],
   "source": [
    "# mlflow\n",
    "for name, pipeline in pipelines:\n",
    "    ##\n",
    "    pipeline.fit(materials['X_train'], materials['y_train'])\n",
    "    val_predictions = pipeline.predict(materials['X_test'])\n",
    "    val_fbeta = fbeta_score(y_true=materials['y_test'], y_pred=val_predictions, \n",
    "                            beta=2)\n",
    "    ##\n",
    "    with mlflow.start_run():\n",
    "        ### tags\n",
    "        tags['pre_pro'] = 'si(mean)_ohe'\n",
    "        tags['base_model'] = name\n",
    "        mlflow.set_tags(tags)\n",
    "        ###\n",
    "        metrics['avg_fbeta'] = kfold_results[name].mean()\n",
    "        metrics['val_fbeta'] = val_fbeta\n",
    "        mlflow.log_metrics(metrics)\n",
    "        ###\n",
    "        mlflow.sklearn.log_model(artifact_path='model', \n",
    "                                 sk_model=pipeline)"
   ]
  },
  {
   "cell_type": "code",
   "execution_count": 34,
   "metadata": {},
   "outputs": [
    {
     "data": {
      "text/plain": [
       "['cloudpickle==3.0.0',\n",
       " 'imbalanced-learn==0.12.3',\n",
       " 'numpy==1.26.4',\n",
       " 'psutil==6.0.0',\n",
       " 'scikit-learn==1.5.1',\n",
       " 'scipy==1.14.0',\n",
       " 'mlxtend==0.23.1']"
      ]
     },
     "execution_count": 34,
     "metadata": {},
     "output_type": "execute_result"
    }
   ],
   "source": [
    "# infer pip requirements\n",
    "runs_id = mlflow.search_runs(\n",
    "    filter_string=\"tags.base_model = 'LR' and tags.pre_pro = 'si(mean)_ohe'\"\n",
    ")['run_id'].values[0]\n",
    "pip_requirements = infer_pip_requirements(\n",
    "    model_uri=f'runs:/{runs_id}/model', \n",
    "    flavor='sklearn'\n",
    ")\n",
    "pip_requirements.extend(['mlxtend==0.23.1'])\n",
    "pip_requirements"
   ]
  },
  {
   "cell_type": "markdown",
   "metadata": {},
   "source": [
    "# 2. Scaling"
   ]
  },
  {
   "cell_type": "markdown",
   "metadata": {},
   "source": [
    "<b>Standardization</b>"
   ]
  },
  {
   "cell_type": "code",
   "execution_count": null,
   "metadata": {},
   "outputs": [],
   "source": [
    "# nodes\n",
    "def scale_test(data: dict) -> tuple[list, list]:\n",
    "    arr, idxes = data['X'], np.array(data['idxes'])\n",
    "    mask = pd.isnull(arr[:, idxes]).sum(axis=0) == 0\n",
    "    passed, failed = idxes[mask].tolist(), idxes[~mask].tolist()\n",
    "\n",
    "    return passed, failed\n",
    "\n",
    "def impute_test(data: dict) -> tuple[list, list]:\n",
    "    return data['idxes'], []\n",
    "\n",
    "def ohe_test(data: dict) -> tuple[list, list]:\n",
    "    return data['idxes'], []\n",
    "\n",
    "std = Node('std', StandardScaler())\n",
    "std.test = scale_test\n",
    "\n",
    "impute = Node('impute', make_pipeline(SimpleImputer(), StandardScaler()))\n",
    "impute.test = impute_test\n",
    "std.next = impute\n",
    "\n",
    "ohe = Node('ohe', OneHotEncoder(drop='first', sparse_output=False))\n",
    "ohe.test = ohe_test\n",
    "\n",
    "left = [std, impute]\n",
    "right = [ohe]\n",
    "\n",
    "tree = InitBinaryTree(left, right)"
   ]
  },
  {
   "cell_type": "code",
   "execution_count": null,
   "metadata": {},
   "outputs": [
    {
     "name": "stderr",
     "output_type": "stream",
     "text": [
      "\n",
      "[2024-08-15 15:35:51] Features: 1/19 -- score: 0.0\n",
      "[2024-08-15 15:36:00] Features: 2/19 -- score: 0.003109452736318408\n",
      "[2024-08-15 15:36:10] Features: 3/19 -- score: 0.496835401421224\n",
      "[2024-08-15 15:36:20] Features: 4/19 -- score: 0.525957732276481\n",
      "[2024-08-15 15:36:30] Features: 5/19 -- score: 0.5422822545371762\n",
      "[2024-08-15 15:36:40] Features: 6/19 -- score: 0.549223337402167\n",
      "[2024-08-15 15:36:50] Features: 7/19 -- score: 0.5594697415254459\n",
      "[2024-08-15 15:36:59] Features: 8/19 -- score: 0.5633740284547945\n",
      "[2024-08-15 15:37:09] Features: 9/19 -- score: 0.5595912340560463\n",
      "[2024-08-15 15:37:18] Features: 10/19 -- score: 0.5632937438250121\n",
      "[2024-08-15 15:37:26] Features: 11/19 -- score: 0.5629551853978703\n",
      "[2024-08-15 15:37:36] Features: 12/19 -- score: 0.5607334380672074\n",
      "[2024-08-15 15:37:44] Features: 13/19 -- score: 0.5574110557941389\n",
      "[2024-08-15 15:37:52] Features: 14/19 -- score: 0.5528038857604967\n",
      "[2024-08-15 15:38:18] Features: 15/19 -- score: 0.5500717432058256\n",
      "[2024-08-15 15:38:04] Features: 16/19 -- score: 0.5477155334073697\n",
      "[2024-08-15 15:38:09] Features: 17/19 -- score: 0.5563298390970828\n",
      "[2024-08-15 15:38:12] Features: 18/19 -- score: 0.5614899535934914\n",
      "[2024-08-15 15:38:15] Features: 19/19 -- score: 0.5626592714117383"
     ]
    }
   ],
   "source": [
    "# warnings\n",
    "simplefilter(action='ignore')\n",
    "\n",
    "# artifacts path\n",
    "artifacts_path = {'feature_selector': '../cache/temp/feature_selector.pkl', \n",
    "                  'model': '../cache/temp/model.pkl'}\n",
    "\n",
    "# base model\n",
    "base_model = get_seleted_models(['LR'])\n",
    "\n",
    "# transformers\n",
    "transformers = SFS(tree)\n",
    "\n",
    "# pipeline\n",
    "pipeline = Pipeline([('trans', transformers)] + base_model)\n",
    "\n",
    "# sfs\n",
    "sfs = SequentialFeatureSelector(\n",
    "    estimator=pipeline, k_features='best', forward=True, \n",
    "    cv=RepeatedStratifiedKFold(n_splits=10, n_repeats=3), \n",
    "    scoring=make_scorer(fbeta_score, beta=2),\n",
    "    verbose=2\n",
    ")\n",
    "sfs.fit(materials['X_train'], materials['y_train'])\n",
    "## dump sfs\n",
    "dump_model(sfs, artifacts_path['feature_selector'])\n",
    "## dump pipeline\n",
    "pipeline.fit(sfs.transform(materials['X_train']), materials['y_train'])\n",
    "dump_model(pipeline, artifacts_path['model'])"
   ]
  },
  {
   "cell_type": "code",
   "execution_count": null,
   "metadata": {},
   "outputs": [
    {
     "name": "stderr",
     "output_type": "stream",
     "text": [
      "Downloading artifacts: 100%|██████████| 1/1 [00:00<00:00, 1544.86it/s] \n",
      "Downloading artifacts: 100%|██████████| 1/1 [00:00<00:00, 1544.86it/s] \n",
      "Downloading artifacts: 100%|██████████| 1/1 [00:00<00:00, 1354.31it/s]\n"
     ]
    }
   ],
   "source": [
    "# mlflow\n",
    "##\n",
    "val_predictions = pipeline.predict(sfs.transform(materials['X_test']))\n",
    "val_fbeta = fbeta_score(y_true=materials['y_test'], y_pred=val_predictions, \n",
    "                        beta=2)\n",
    "##\n",
    "with mlflow.start_run():\n",
    "    ### tags\n",
    "    mlflow.set_tags({'pre_pro': 'si(mean)_std_ohe', \n",
    "                     'base_model': 'LR', \n",
    "                     'feature_selection': 'true',\n",
    "                     'beta_f': 2})\n",
    "    ### metrics\n",
    "    mlflow.log_metrics({'avg_fbeta': sfs.k_score_, \n",
    "                        'val_fbeta': val_fbeta})\n",
    "    ### pipeline\n",
    "    mlflow.pyfunc.log_model(artifact_path='model', \n",
    "                            python_model=MLflowModel(), \n",
    "                            artifacts=artifacts_path,\n",
    "                            signature=infer_signature(materials['X_train']), \n",
    "                            pip_requirements=pip_requirements)"
   ]
  },
  {
   "cell_type": "markdown",
   "metadata": {},
   "source": [
    "<b>Power Transformation</b>"
   ]
  },
  {
   "cell_type": "code",
   "execution_count": null,
   "metadata": {},
   "outputs": [],
   "source": [
    "# nodes\n",
    "def scale_test(data: dict) -> tuple[list, list]:\n",
    "    arr, idxes = data['X'], np.array(data['idxes'])\n",
    "    mask = pd.isnull(arr[:, idxes]).sum(axis=0) == 0\n",
    "    passed, failed = idxes[mask], idxes[~mask]\n",
    "\n",
    "    return passed, failed\n",
    "\n",
    "def impute_test(data: dict) -> tuple[list, list]:\n",
    "    return data['idxes'], []\n",
    "\n",
    "def ohe_test(data: dict) -> tuple[list, list]:\n",
    "    return data['idxes'], []\n",
    "\n",
    "scale = Node('pwt', PowerTransformer(method='yeo-johnson'))\n",
    "scale.test = scale_test\n",
    "\n",
    "impute = Node('impute', make_pipeline(SimpleImputer(), PowerTransformer(method='yeo-johnson')))\n",
    "impute.test = impute_test\n",
    "scale.next = impute\n",
    "\n",
    "ohe = Node('ohe', OneHotEncoder(drop='first', sparse_output=False))\n",
    "ohe.test = ohe_test\n",
    "\n",
    "tree = InitBinaryTree([scale, impute], [ohe])"
   ]
  },
  {
   "cell_type": "code",
   "execution_count": null,
   "metadata": {},
   "outputs": [
    {
     "name": "stderr",
     "output_type": "stream",
     "text": [
      "\n",
      "[2024-08-14 14:05:27] Features: 1/19 -- score: 0.3361781255856417\n",
      "[2024-08-14 14:05:38] Features: 2/19 -- score: 0.46253800344067886\n",
      "[2024-08-14 14:05:49] Features: 3/19 -- score: 0.4831835418535041\n",
      "[2024-08-14 14:06:00] Features: 4/19 -- score: 0.5128423120604098\n",
      "[2024-08-14 14:06:14] Features: 5/19 -- score: 0.5316098718160551\n",
      "[2024-08-14 14:06:45] Features: 6/19 -- score: 0.5401812282298423\n",
      "[2024-08-14 14:06:39] Features: 7/19 -- score: 0.5400414500050618\n",
      "[2024-08-14 14:06:51] Features: 8/19 -- score: 0.5438148203534562\n",
      "[2024-08-14 14:07:02] Features: 9/19 -- score: 0.5466159221776922\n",
      "[2024-08-14 14:07:31] Features: 10/19 -- score: 0.5479701475505128\n",
      "[2024-08-14 14:07:41] Features: 11/19 -- score: 0.548914569944774\n",
      "[2024-08-14 14:07:51] Features: 12/19 -- score: 0.5489446327480668\n",
      "[2024-08-14 14:07:44] Features: 13/19 -- score: 0.546940887968206\n",
      "[2024-08-14 14:07:54] Features: 14/19 -- score: 0.5449865803773242\n",
      "[2024-08-14 14:08:03] Features: 15/19 -- score: 0.5411112516763976\n",
      "[2024-08-14 14:08:10] Features: 16/19 -- score: 0.5351403957145956\n",
      "[2024-08-14 14:08:16] Features: 17/19 -- score: 0.538099692807632\n",
      "[2024-08-14 14:08:20] Features: 18/19 -- score: 0.5410278481465794\n",
      "[2024-08-14 14:08:23] Features: 19/19 -- score: 0.5375284769618714"
     ]
    }
   ],
   "source": [
    "# warnings\n",
    "simplefilter(action='ignore')\n",
    "\n",
    "# artifacts path\n",
    "artifacts_path = {'feature_selector': '../cache/temp/feature_selector.pkl', \n",
    "                  'model': f'../cache/temp/model.pkl'}\n",
    "\n",
    "# base model\n",
    "base_model = get_seleted_models(['LR'])\n",
    "\n",
    "# transformers\n",
    "transformers = SFS(tree)\n",
    "\n",
    "# pipeline\n",
    "pipeline = Pipeline([('trans', transformers)] + base_model)\n",
    "\n",
    "# sfs\n",
    "sfs = SequentialFeatureSelector(\n",
    "    estimator=pipeline, k_features='best', forward=True, \n",
    "    cv=RepeatedStratifiedKFold(n_splits=10, n_repeats=3), \n",
    "    scoring=make_scorer(fbeta_score, beta=2), \n",
    "    verbose=2\n",
    ")\n",
    "sfs.fit(materials['X_train'], materials['y_train'])\n",
    "## dump \n",
    "dump_model(sfs, artifacts_path['feature_selector'])\n",
    "## pipeline\n",
    "pipeline.fit(sfs.transform(materials['X_train']), materials['y_train'])\n",
    "dump_model(pipeline, artifacts_path['model'])"
   ]
  },
  {
   "cell_type": "code",
   "execution_count": null,
   "metadata": {},
   "outputs": [
    {
     "name": "stderr",
     "output_type": "stream",
     "text": [
      "Downloading artifacts: 100%|██████████| 1/1 [00:00<00:00, 2164.24it/s] \n",
      "Downloading artifacts: 100%|██████████| 1/1 [00:00<00:00, 2164.24it/s] \n",
      "Downloading artifacts: 100%|██████████| 1/1 [00:00<00:00, 2013.59it/s] \n",
      "2024/08/14 14:12:27 WARNING mlflow.utils.requirements_utils: Encountered an unexpected error (AttributeError(\"module 'pickle' has no attribute '__version__'\")) while detecting model dependency mismatches. Set logging level to DEBUG to see the full traceback.\n"
     ]
    }
   ],
   "source": [
    "# mlflow\n",
    "##\n",
    "val_predictions = pipeline.predict(sfs.transform(materials['X_test']))\n",
    "val_fbeta = fbeta_score(materials['y_test'], val_predictions, \n",
    "                        beta=2)\n",
    "##\n",
    "with mlflow.start_run():\n",
    "    ### tags\n",
    "    mlflow.set_tags({'pre_pro': 'si(mean)_pwt_ohe', \n",
    "                     'base_model': 'LR', \n",
    "                     'feature_selection': 'true',\n",
    "                     'beta_f': 2})\n",
    "    ### metrics\n",
    "    mlflow.log_metrics({'avg_fbeta': sfs.k_score_, \n",
    "                        'val_fbeta': val_fbeta})\n",
    "    ### log\n",
    "    mlflow.pyfunc.log_model(artifact_path='model', \n",
    "                            python_model=MLflowModel(),\n",
    "                            artifacts=artifacts_path, \n",
    "                            signature=infer_signature(materials['X_train']), \n",
    "                            pip_requirements=pip_requirements)"
   ]
  },
  {
   "cell_type": "markdown",
   "metadata": {},
   "source": [
    "<b>Quantile Transformation</b>"
   ]
  },
  {
   "cell_type": "code",
   "execution_count": null,
   "metadata": {},
   "outputs": [],
   "source": [
    "# nodes\n",
    "def scale_test(data: dict) -> tuple[list, list]:\n",
    "    arr, idxes = data['X'], np.array(data['idxes'])\n",
    "    mask = pd.isnull(arr[:, idxes]).sum(axis=0) == 0\n",
    "    passed, failed = idxes[mask], idxes[~mask]\n",
    "\n",
    "    return passed, failed\n",
    "\n",
    "def impute_test(data: dict) -> tuple[list, list]:\n",
    "    return data['idxes'], []\n",
    "\n",
    "def ohe_test(data: dict) -> tuple[list, list]:\n",
    "    return data['idxes'], []\n",
    "\n",
    "scale = Node('qtt', QuantileTransformer(output_distribution='normal'))\n",
    "scale.test = scale_test\n",
    "\n",
    "impute = Node('impute', make_pipeline(SimpleImputer(), QuantileTransformer(output_distribution='normal')))\n",
    "impute.test = impute_test\n",
    "scale.next = impute\n",
    "\n",
    "ohe = Node('ohe', OneHotEncoder(drop='first', sparse_output=False))\n",
    "ohe.test = ohe_test\n",
    "\n",
    "tree = InitBinaryTree([scale, impute], [ohe])"
   ]
  },
  {
   "cell_type": "code",
   "execution_count": null,
   "metadata": {},
   "outputs": [
    {
     "name": "stderr",
     "output_type": "stream",
     "text": [
      "\n",
      "[2024-08-14 14:50:41] Features: 1/19 -- score: 0.23122695487820602\n",
      "[2024-08-14 14:50:52] Features: 2/19 -- score: 0.4565492052428545\n",
      "[2024-08-14 14:50:46] Features: 3/19 -- score: 0.49265232271954207\n",
      "[2024-08-14 14:50:57] Features: 4/19 -- score: 0.5069162013907991\n",
      "[2024-08-14 14:51:09] Features: 5/19 -- score: 0.5331146064709783\n",
      "[2024-08-14 14:51:20] Features: 6/19 -- score: 0.54759979637967\n",
      "[2024-08-14 14:51:30] Features: 7/19 -- score: 0.5469001766472168\n",
      "[2024-08-14 14:51:41] Features: 8/19 -- score: 0.5427980577482816\n",
      "[2024-08-14 14:51:52] Features: 9/19 -- score: 0.5445082417212952\n",
      "[2024-08-14 14:52:02] Features: 10/19 -- score: 0.5441233437120379\n",
      "[2024-08-14 14:52:12] Features: 11/19 -- score: 0.542990039711352\n",
      "[2024-08-14 14:52:23] Features: 12/19 -- score: 0.5422281433192917\n",
      "[2024-08-14 14:52:33] Features: 13/19 -- score: 0.5456042601286419\n",
      "[2024-08-14 14:52:42] Features: 14/19 -- score: 0.5500419262936262\n",
      "[2024-08-14 14:53:08] Features: 15/19 -- score: 0.55259763253082\n",
      "[2024-08-14 14:52:56] Features: 16/19 -- score: 0.5542353044491342\n",
      "[2024-08-14 14:53:01] Features: 17/19 -- score: 0.5495862020060679\n",
      "[2024-08-14 14:53:06] Features: 18/19 -- score: 0.5514125970585216\n",
      "[2024-08-14 14:53:08] Features: 19/19 -- score: 0.5518111830523654"
     ]
    }
   ],
   "source": [
    "# warnings\n",
    "simplefilter(action='ignore')\n",
    "\n",
    "# artifacts_path\n",
    "artifacts_path = {'feature_selector': '../cache/temp/feature_selector.pkl', \n",
    "                  'model': f'../cache/temp/model.pkl'}\n",
    "\n",
    "# base model\n",
    "base_model = get_seleted_models(['LR'])\n",
    "\n",
    "# transformers\n",
    "transformers = SFS(tree)\n",
    "\n",
    "# pipeline\n",
    "pipeline = Pipeline([('trans', transformers)] + base_model)\n",
    "\n",
    "# sfs\n",
    "sfs = SequentialFeatureSelector(\n",
    "    estimator=pipeline, k_features='best', forward=True, \n",
    "    cv=RepeatedStratifiedKFold(n_splits=10, n_repeats=3), \n",
    "    scoring=make_scorer(fbeta_score, beta=2), \n",
    "    verbose=2\n",
    "\n",
    ")\n",
    "sfs.fit(materials['X_train'], materials['y_train'])\n",
    "## dump\n",
    "dump_model(sfs, artifacts_path['feature_selector'])\n",
    "## pipeline\n",
    "pipeline.fit(sfs.transform(materials['X_train']), materials['y_train'])\n",
    "dump_model(pipeline, artifacts_path['model'])"
   ]
  },
  {
   "cell_type": "code",
   "execution_count": null,
   "metadata": {},
   "outputs": [
    {
     "name": "stderr",
     "output_type": "stream",
     "text": [
      "Downloading artifacts: 100%|██████████| 1/1 [00:00<00:00, 2087.76it/s] \n",
      "Downloading artifacts: 100%|██████████| 1/1 [00:00<00:00, 2087.76it/s] \n",
      "Downloading artifacts: 100%|██████████| 1/1 [00:00<00:00, 1831.57it/s] \n",
      "2024/08/14 14:53:08 WARNING mlflow.utils.requirements_utils: Encountered an unexpected error (AttributeError(\"module 'pickle' has no attribute '__version__'\")) while detecting model dependency mismatches. Set logging level to DEBUG to see the full traceback.\n"
     ]
    }
   ],
   "source": [
    "# mflow\n",
    "## \n",
    "val_predictions = pipeline.predict(sfs.transform(materials['X_test']))\n",
    "val_fbeta = fbeta_score(materials['y_test'], val_predictions, \n",
    "                        beta=2)\n",
    "##\n",
    "with mlflow.start_run():\n",
    "    ### tags\n",
    "    mlflow.set_tags({'pre_pro': 'si(mean)_qtt_ohe', \n",
    "                     'base_model': 'LR', \n",
    "                     'feature_selection': 'true', \n",
    "                     'beta_f': 2})\n",
    "    ### metrics\n",
    "    mlflow.log_metrics({'avg_fbeta': sfs.k_score_, \n",
    "                        'val_fbeta': val_fbeta})\n",
    "    ###\n",
    "    mlflow.pyfunc.log_model(artifact_path='model', \n",
    "                            python_model=MLflowModel(), \n",
    "                            artifacts=artifacts_path, \n",
    "                            signature=infer_signature(materials['X_train']), \n",
    "                            pip_requirements=pip_requirements)"
   ]
  },
  {
   "cell_type": "markdown",
   "metadata": {},
   "source": [
    "# 3. Factor Analysis"
   ]
  },
  {
   "cell_type": "markdown",
   "metadata": {},
   "source": [
    "# 4. Resampling"
   ]
  },
  {
   "cell_type": "code",
   "execution_count": null,
   "metadata": {},
   "outputs": [],
   "source": [
    "# nodes\n",
    "def scale_test(data: dict) -> tuple[list, list]:\n",
    "    arr, idxes = data['X'], np.array(data['idxes'])\n",
    "    mask = pd.isnull(arr[:, idxes]).sum(axis=0) == 0\n",
    "    passed, failed = idxes[mask].tolist(), idxes[~mask].tolist()\n",
    "\n",
    "    return passed, failed\n",
    "\n",
    "def impute_test(data: dict) -> tuple[list, list]:\n",
    "    return data['idxes'], []\n",
    "\n",
    "def ohe_test(data: dict) -> tuple[list, list]:\n",
    "    return data['idxes'], []\n",
    "\n",
    "scale = Node('std', StandardScaler())\n",
    "scale.test = scale_test\n",
    "\n",
    "impute = Node('impute', make_pipeline(SimpleImputer(), StandardScaler()))\n",
    "impute.test = impute_test\n",
    "scale.next = impute\n",
    "\n",
    "ohe = Node('ohe', OneHotEncoder(drop='first', sparse_output=False))\n",
    "ohe.test = ohe_test\n",
    "\n",
    "tree = InitBinaryTree([scale, impute], [ohe])"
   ]
  },
  {
   "cell_type": "code",
   "execution_count": null,
   "metadata": {},
   "outputs": [],
   "source": [
    "# data\n",
    "run_id = mlflow.search_runs(\n",
    "    filter_string=\"tags.base_model == 'LR' and tags.pre_pro == 'si(mean)_std_ohe'\"\n",
    ")\n",
    "path = mlflow.artifacts.download_artifacts(f\"runs:/{run_id}/model/artifacts/feature_selector.pkl\")\n",
    "with open(path, 'rd') as f:\n",
    "    sfs = cloudpickle.load(f)\n",
    "    selected_X_train = sfs.transform(materials['X_train'])"
   ]
  },
  {
   "cell_type": "code",
   "execution_count": null,
   "metadata": {},
   "outputs": [
    {
     "name": "stdout",
     "output_type": "stream",
     "text": [
      "ROS: 0.7060969539293152 (0.030120432611275047)\n"
     ]
    },
    {
     "name": "stderr",
     "output_type": "stream",
     "text": [
      "Downloading artifacts: 100%|██████████| 1/1 [00:00<00:00, 1256.53it/s] \n",
      "Downloading artifacts: 100%|██████████| 1/1 [00:00<00:00, 1543.73it/s] \n",
      "2024/08/15 14:39:06 WARNING mlflow.utils.requirements_utils: Encountered an unexpected error (AttributeError(\"module 'pickle' has no attribute '__version__'\")) while detecting model dependency mismatches. Set logging level to DEBUG to see the full traceback.\n"
     ]
    },
    {
     "name": "stdout",
     "output_type": "stream",
     "text": [
      "SMOTE: 0.704627434573926 (0.024500491895288006)\n"
     ]
    },
    {
     "name": "stderr",
     "output_type": "stream",
     "text": [
      "Downloading artifacts: 100%|██████████| 1/1 [00:00<00:00, 1637.12it/s] \n",
      "Downloading artifacts: 100%|██████████| 1/1 [00:00<00:00, 2743.17it/s] \n",
      "2024/08/15 14:39:08 WARNING mlflow.utils.requirements_utils: Encountered an unexpected error (AttributeError(\"module 'pickle' has no attribute '__version__'\")) while detecting model dependency mismatches. Set logging level to DEBUG to see the full traceback.\n"
     ]
    },
    {
     "name": "stdout",
     "output_type": "stream",
     "text": [
      "SMOTEENN: 0.7406310323292561 (0.014409149366938278)\n"
     ]
    },
    {
     "name": "stderr",
     "output_type": "stream",
     "text": [
      "Downloading artifacts: 100%|██████████| 1/1 [00:00<00:00, 2362.99it/s] \n",
      "Downloading artifacts: 100%|██████████| 1/1 [00:00<00:00, 2545.09it/s] \n",
      "2024/08/15 14:39:10 WARNING mlflow.utils.requirements_utils: Encountered an unexpected error (AttributeError(\"module 'pickle' has no attribute '__version__'\")) while detecting model dependency mismatches. Set logging level to DEBUG to see the full traceback.\n"
     ]
    },
    {
     "name": "stdout",
     "output_type": "stream",
     "text": [
      "SMOTETomek: 0.7219194764517856 (0.021845425296589508)\n"
     ]
    },
    {
     "name": "stderr",
     "output_type": "stream",
     "text": [
      "Downloading artifacts: 100%|██████████| 1/1 [00:00<00:00, 2228.64it/s] \n",
      "Downloading artifacts: 100%|██████████| 1/1 [00:00<00:00, 2228.64it/s] \n",
      "Downloading artifacts: 100%|██████████| 1/1 [00:00<00:00, 2593.88it/s] \n",
      "2024/08/15 14:39:12 WARNING mlflow.utils.requirements_utils: Encountered an unexpected error (AttributeError(\"module 'pickle' has no attribute '__version__'\")) while detecting model dependency mismatches. Set logging level to DEBUG to see the full traceback.\n"
     ]
    }
   ],
   "source": [
    "# warnings\n",
    "simplefilter(action='ignore')\n",
    "\n",
    "# resamplers\n",
    "resamplers = load_resammplers()\n",
    "\n",
    "# base model\n",
    "base_model = get_seleted_models(['LR'])\n",
    "\n",
    "# transformers\n",
    "transformers = SFS(tree)\n",
    "\n",
    "# evaluation \n",
    "kfold_results = dict()\n",
    "for name, resampler in resamplers:\n",
    "    ##\n",
    "    pipeline = [(name, Pipeline([('trans', transformers), (name, resampler)] + base_model))]\n",
    "    cv_results = get_kfold_results(pipeline, selected_X_train, materials['y_train'])\n",
    "    kfold_results.update(cv_results)\n",
    "    ##\n",
    "    _, pipeline = pipeline[0]\n",
    "    pipeline.fit(selected_X_train, materials['y_train'])\n",
    "    artifacts_path['model'] = f'../cache/temp/model.pkl'\n",
    "    dump_model(pipeline, artifacts_path['model'])\n",
    "    ## mlflow\n",
    "    val_predictions = pipeline.predict(sfs.transform(materials['X_test']))\n",
    "    val_fbeta = fbeta_score(materials['y_test'], val_predictions, \n",
    "                            beta=2)\n",
    "    with mlflow.start_run():\n",
    "        ### tags\n",
    "        mlflow.set_tags({'pre_pro': f'si(mean)_std_ohe_{name.lower()}', \n",
    "                         'base_model': 'LR', \n",
    "                         'feature_selection': 'true', \n",
    "                         'beta_f': 2})\n",
    "        ### metrics\n",
    "        mlflow.log_metrics({'avg_fbeta': cv_results[name].mean(), \n",
    "                            'val_fbeta': val_fbeta})\n",
    "        ### model\n",
    "        mlflow.pyfunc.log_model(artifact_path='model', \n",
    "                                python_model=MLflowModel(), \n",
    "                                artifacts=artifacts_path, \n",
    "                                signature=infer_signature(materials['X_train']),\n",
    "                                pip_requirements=pip_requirements)"
   ]
  },
  {
   "cell_type": "code",
   "execution_count": null,
   "metadata": {},
   "outputs": [
    {
     "data": {
      "image/png": "[encoded data removed]",
      "text/plain": [
       "<Figure size 640x480 with 1 Axes>"
      ]
     },
     "metadata": {},
     "output_type": "display_data"
    }
   ],
   "source": [
    "# plot\n",
    "plot_kfold_results(kfold_results)"
   ]
  },
  {
   "cell_type": "markdown",
   "metadata": {},
   "source": [
    "# 5. Finalize Model"
   ]
  },
  {
   "cell_type": "code",
   "execution_count": null,
   "metadata": {},
   "outputs": [
    {
     "name": "stderr",
     "output_type": "stream",
     "text": [
      "2024/08/15 14:40:02 WARNING mlflow.utils.requirements_utils: Encountered an unexpected error (AttributeError(\"module 'pickle' has no attribute '__version__'\")) while detecting model dependency mismatches. Set logging level to DEBUG to see the full traceback.\n"
     ]
    }
   ],
   "source": [
    "# search runs\n",
    "## notes: if using nodes, the function for the node should be present in memory \n",
    "run_id = mlflow.search_runs(\n",
    "    filter_string=\"tag.pre_pro = 'si(mean)_std_ohe_smoteenn' and tags.base_model = 'LR'\"\n",
    ")['run_id'].values[0]\n",
    "model = mlflow.pyfunc.load_model(f\"runs:/{run_id}/model\")"
   ]
  },
  {
   "cell_type": "code",
   "execution_count": null,
   "metadata": {},
   "outputs": [
    {
     "name": "stdout",
     "output_type": "stream",
     "text": [
      "FBeta score: 0.7542790832608065 \n",
      "Classification report: \n",
      "              precision    recall  f1-score   support\n",
      "\n",
      "           0       0.95      0.56      0.71      1552\n",
      "           1       0.43      0.93      0.59       561\n",
      "\n",
      "    accuracy                           0.66      2113\n",
      "   macro avg       0.69      0.74      0.65      2113\n",
      "weighted avg       0.82      0.66      0.68      2113\n",
      "\n"
     ]
    },
    {
     "data": {
      "image/png": "[encoded data removed]",
      "text/plain": [
       "<Figure size 640x480 with 1 Axes>"
      ]
     },
     "metadata": {},
     "output_type": "display_data"
    }
   ],
   "source": [
    "# make predictions \n",
    "## fbeta & classification report\n",
    "val_predictions = model.predict(materials['X_test'])\n",
    "val_fbeta = fbeta_score(materials['y_test'], val_predictions, \n",
    "                        beta=2)\n",
    "print(f\"FBeta score: {val_fbeta} \\nClassification report: \\n{classification_report(materials['y_test'], val_predictions)}\")\n",
    "\n",
    "## confusion matrix\n",
    "data = confusion_matrix(materials['y_test'], val_predictions)\n",
    "g = sns.heatmap(data, \n",
    "            annot=True, fmt='.0f', \n",
    "            cmap='coolwarm', cbar=False)\n",
    "g.xaxis.tick_top()\n",
    "g.set_xticklabels(['Not churned', 'Churned'])\n",
    "g.set_yticklabels(['Not churned', 'Churned'])\n",
    "g.set_title(label='Confusion matrix', \n",
    "            fontdict=dict(weight='bold'))\n",
    "\n",
    "plt.show()"
   ]
  }
 ],
 "metadata": {
  "kernelspec": {
   "display_name": "mlops",
   "language": "python",
   "name": "python3"
  },
  "language_info": {
   "codemirror_mode": {
    "name": "ipython",
    "version": 3
   },
   "file_extension": ".py",
   "mimetype": "text/x-python",
   "name": "python",
   "nbconvert_exporter": "python",
   "pygments_lexer": "ipython3",
   "version": "3.11.9"
  }
 },
 "nbformat": 4,
 "nbformat_minor": 2
}
