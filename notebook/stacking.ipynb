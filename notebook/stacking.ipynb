{
 "cells": [
  {
   "cell_type": "markdown",
   "metadata": {},
   "source": [
    "# Preparation"
   ]
  },
  {
   "cell_type": "markdown",
   "metadata": {},
   "source": [
    "<b>Load Libraries</b>"
   ]
  },
  {
   "cell_type": "code",
   "execution_count": 6,
   "metadata": {},
   "outputs": [],
   "source": [
    "# udf and udc\n",
    "import os, sys\n",
    "cwd = os.getcwd()\n",
    "os.chdir('../')\n",
    "path_to_src = os.getcwd()\n",
    "os.chdir(cwd)\n",
    "if path_to_src not in sys.path:\n",
    "    sys.path.append(path_to_src)\n",
    "from src.notebook.support import *\n",
    "from src.mlflow.support import *\n",
    "\n",
    "# others\n",
    "from warnings import simplefilter"
   ]
  },
  {
   "cell_type": "markdown",
   "metadata": {},
   "source": [
    "<b>Load Dataset</b>"
   ]
  },
  {
   "cell_type": "code",
   "execution_count": 8,
   "metadata": {},
   "outputs": [],
   "source": [
    "# materials\n",
    "materials = prepare_data_to_train(path='../cache/data/cleaned.csv')"
   ]
  },
  {
   "cell_type": "markdown",
   "metadata": {},
   "source": [
    "<b>MLflow</b>"
   ]
  },
  {
   "cell_type": "code",
   "execution_count": 9,
   "metadata": {},
   "outputs": [],
   "source": [
    "# local server\n",
    "mlflow.set_tracking_uri('http://127.0.0.1:5000/')\n",
    "experiment_name = 'Feature engineering'\n",
    "try:\n",
    "    mlflow.create_experiment(name=experiment_name, artifact_location='../cache/mlflow/runs/')\n",
    "except:\n",
    "    mlflow.set_experiment(experiment_name=experiment_name)"
   ]
  },
  {
   "cell_type": "markdown",
   "metadata": {},
   "source": [
    "# 1. LR && XGB"
   ]
  },
  {
   "cell_type": "code",
   "execution_count": null,
   "metadata": {},
   "outputs": [],
   "source": [
    "run_id = mlflow.search_runs(\n",
    "    filter_string=\"tags.base_model = 'LR' and tags.pre_pro = 'si(mean)_std_ohe_smoteenn'\", \n",
    "    order_by=[\"metrics.val_fbeta DESC\"]\n",
    ")['run_id'].values[0]\n",
    "path = mlflow.artifacts.download_artifacts(f\"runs:/{run_id}/model/artifacts\")\n",
    "path_lr = {'feature_selector': f\"{path}/feature_selector.pkl\", \n",
    "           'model': f\"{path}/model.pkl\"}\n",
    "lr_as_base = FSBaseClassifier(path_lr)"
   ]
  },
  {
   "cell_type": "code",
   "execution_count": null,
   "metadata": {},
   "outputs": [],
   "source": [
    "run_id = mlflow.search_runs(\n",
    "    filter_string=\"tags.base_model = 'XGB' and tags.pre_pro = 'si(mean)_std_ohe_smoteenn'\", \n",
    "    order_by=[\"metrics.val_fbeta DESC\"]\n",
    ")['run_id'].values[0]\n",
    "path = mlflow.artifacts.download_artifacts(f\"runs:/{run_id}/model/artifacts\")\n",
    "path_xgb = {'feature_selector': f\"{path}/feature_selector.pkl\", \n",
    "            'model': f\"{path}/model.pkl\"}\n",
    "xgb_as_base = FSBaseClassifier(path_xgb)"
   ]
  },
  {
   "cell_type": "code",
   "execution_count": null,
   "metadata": {},
   "outputs": [],
   "source": [
    "stacking = StackingClassifier(estimators=[('LR', lr_as_base), ('XGB', xgb_as_base)], \n",
    "                              final_estimator=LogisticRegression(n_jobs=-1),\n",
    "                              stack_method='predict')\n",
    "stacking.fit(materials['X_train'], materials['y_train'])\n",
    "val_predictions = stacking.predict(materials['X_test'])\n",
    "val_fbeta = fbeta_score(materials['y_test'], val_predictions, \n",
    "                        beta=2)\n",
    "print(f\"FBeta score: {val_fbeta} \\n{classification_report(materials['y_test'], val_predictions)}\")"
   ]
  }
 ],
 "metadata": {
  "kernelspec": {
   "display_name": "mlops",
   "language": "python",
   "name": "python3"
  },
  "language_info": {
   "codemirror_mode": {
    "name": "ipython",
    "version": 3
   },
   "file_extension": ".py",
   "mimetype": "text/x-python",
   "name": "python",
   "nbconvert_exporter": "python",
   "pygments_lexer": "ipython3",
   "version": "3.11.9"
  }
 },
 "nbformat": 4,
 "nbformat_minor": 2
}
