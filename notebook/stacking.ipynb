{
 "cells": [
  {
   "cell_type": "markdown",
   "metadata": {},
   "source": [
    "# Preparation"
   ]
  },
  {
   "cell_type": "markdown",
   "metadata": {},
   "source": [
    "<b>Load Libraries</b>"
   ]
  },
  {
   "cell_type": "code",
   "execution_count": 1,
   "metadata": {},
   "outputs": [],
   "source": [
    "# udf and udc\n",
    "import os, sys\n",
    "cwd = os.getcwd()\n",
    "os.chdir('../')\n",
    "path_to_src = os.getcwd()\n",
    "os.chdir(cwd)\n",
    "if path_to_src not in sys.path:\n",
    "    sys.path.append(path_to_src)\n",
    "from src.notebook.support import *\n",
    "from src.mlflow.support import *\n",
    "\n",
    "# others\n",
    "from warnings import simplefilter"
   ]
  },
  {
   "cell_type": "markdown",
   "metadata": {},
   "source": [
    "<b>Load Dataset</b>"
   ]
  },
  {
   "cell_type": "code",
   "execution_count": 2,
   "metadata": {},
   "outputs": [],
   "source": [
    "# materials\n",
    "materials = prepare_data_to_train(path='../cache/data/cleaned.csv')"
   ]
  },
  {
   "cell_type": "markdown",
   "metadata": {},
   "source": [
    "<b>MLflow</b>"
   ]
  },
  {
   "cell_type": "code",
   "execution_count": 3,
   "metadata": {},
   "outputs": [],
   "source": [
    "# local server\n",
    "mlflow.set_tracking_uri('http://127.0.0.1:5000/')\n",
    "experiment_name = 'Feature engineering'\n",
    "try:\n",
    "    mlflow.create_experiment(name=experiment_name, artifact_location='../cache/mlflow/runs/')\n",
    "except:\n",
    "    mlflow.set_experiment(experiment_name=experiment_name)"
   ]
  },
  {
   "cell_type": "markdown",
   "metadata": {},
   "source": [
    "# 1. LR && XGB"
   ]
  },
  {
   "cell_type": "code",
   "execution_count": 22,
   "metadata": {},
   "outputs": [],
   "source": [
    "# LR as base model\n",
    "## dowanlodad artifacts\n",
    "run_id = mlflow.search_runs(\n",
    "    filter_string=\"tags.base_model = 'LR' and tags.pre_pro = 'si(mean)_std_ohe_smoteenn'\", \n",
    "    order_by=[\"metrics.val_fbeta DESC\"]\n",
    ")['run_id'].values[0]\n",
    "try:\n",
    "    path_to_lr = mlflow.artifacts.download_artifacts(artifact_uri=f\"runs:/{run_id}/model/artifacts\")\n",
    "except:\n",
    "    print(\"Check the above directory again!!\")\n",
    "##\n",
    "feature_selector_lr = f\"{path_to_lr}/feature_selector.pkl\"\n",
    "with open(feature_selector_lr, 'rb') as f:\n",
    "    feature_selector_lr = cloudpickle.load(f)\n",
    "##\n",
    "lr = f\"{path_to_lr}/model.pkl\"\n",
    "with open(lr, 'rb') as f:\n",
    "    lr = cloudpickle.load(f)\n",
    "\n",
    "lr_as_base = FSBaseClassifier(feature_selector_lr, lr)"
   ]
  },
  {
   "cell_type": "code",
   "execution_count": 29,
   "metadata": {},
   "outputs": [],
   "source": [
    "# XGB as base model\n",
    "## download artifacts\n",
    "run_id = mlflow.search_runs(\n",
    "    filter_string=\"tags.base_model = 'XGB' and tags.pre_pro = 'si(mean)_std_ohe_smoteenn'\", \n",
    "    order_by=[\"metrics.val_fbeta DESC\"]\n",
    ")['run_id'].values[0]\n",
    "try:\n",
    "    path_to_xgb = mlflow.artifacts.download_artifacts(artifact_uri=f\"runs:/{run_id}/model/artifacts\")\n",
    "except:\n",
    "    print('Check the above directory again')\n",
    "## \n",
    "feature_selector_xgb = f\"{path_to_xgb}/feature_selector.pkl\"\n",
    "with open(feature_selector_xgb, 'rb') as f:\n",
    "    feature_selector_xgb = cloudpickle.load(f)\n",
    "##\n",
    "xgb = f\"{path_to_xgb}/model.pkl\" \n",
    "with open(xgb, 'rb') as f:\n",
    "    xgb = cloudpickle.load(f)\n",
    "\n",
    "xgb_as_base = FSBaseClassifier(feature_selector_xgb, xgb)"
   ]
  }
 ],
 "metadata": {
  "kernelspec": {
   "display_name": "mlops",
   "language": "python",
   "name": "python3"
  },
  "language_info": {
   "codemirror_mode": {
    "name": "ipython",
    "version": 3
   },
   "file_extension": ".py",
   "mimetype": "text/x-python",
   "name": "python",
   "nbconvert_exporter": "python",
   "pygments_lexer": "ipython3",
   "version": "3.11.9"
  }
 },
 "nbformat": 4,
 "nbformat_minor": 2
}
